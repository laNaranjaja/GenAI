{
  "nbformat": 4,
  "nbformat_minor": 0,
  "metadata": {
    "colab": {
      "provenance": [],
      "include_colab_link": true
    },
    "kernelspec": {
      "name": "python3",
      "display_name": "Python 3"
    },
    "language_info": {
      "name": "python"
    }
  },
  "cells": [
    {
      "cell_type": "markdown",
      "metadata": {
        "id": "view-in-github",
        "colab_type": "text"
      },
      "source": [
        "<a href=\"https://colab.research.google.com/github/laNaranjaja/GenAI/blob/main/Intro_OpenAI.ipynb\" target=\"_parent\"><img src=\"https://colab.research.google.com/assets/colab-badge.svg\" alt=\"Open In Colab\"/></a>"
      ]
    },
    {
      "cell_type": "code",
      "source": [
        "! pip install Openai\n",
        "! pip install langchain"
      ],
      "metadata": {
        "colab": {
          "base_uri": "https://localhost:8080/"
        },
        "id": "vhPcb1VmFIeK",
        "outputId": "14d37f6d-a140-4f54-8718-e179cdc948db"
      },
      "execution_count": null,
      "outputs": [
        {
          "output_type": "stream",
          "name": "stdout",
          "text": [
            "Requirement already satisfied: Openai in /usr/local/lib/python3.10/dist-packages (1.10.0)\n",
            "Requirement already satisfied: anyio<5,>=3.5.0 in /usr/local/lib/python3.10/dist-packages (from Openai) (3.7.1)\n",
            "Requirement already satisfied: distro<2,>=1.7.0 in /usr/lib/python3/dist-packages (from Openai) (1.7.0)\n",
            "Requirement already satisfied: httpx<1,>=0.23.0 in /usr/local/lib/python3.10/dist-packages (from Openai) (0.26.0)\n",
            "Requirement already satisfied: pydantic<3,>=1.9.0 in /usr/local/lib/python3.10/dist-packages (from Openai) (1.10.14)\n",
            "Requirement already satisfied: sniffio in /usr/local/lib/python3.10/dist-packages (from Openai) (1.3.0)\n",
            "Requirement already satisfied: tqdm>4 in /usr/local/lib/python3.10/dist-packages (from Openai) (4.66.1)\n",
            "Requirement already satisfied: typing-extensions<5,>=4.7 in /usr/local/lib/python3.10/dist-packages (from Openai) (4.9.0)\n",
            "Requirement already satisfied: idna>=2.8 in /usr/local/lib/python3.10/dist-packages (from anyio<5,>=3.5.0->Openai) (3.6)\n",
            "Requirement already satisfied: exceptiongroup in /usr/local/lib/python3.10/dist-packages (from anyio<5,>=3.5.0->Openai) (1.2.0)\n",
            "Requirement already satisfied: certifi in /usr/local/lib/python3.10/dist-packages (from httpx<1,>=0.23.0->Openai) (2023.11.17)\n",
            "Requirement already satisfied: httpcore==1.* in /usr/local/lib/python3.10/dist-packages (from httpx<1,>=0.23.0->Openai) (1.0.2)\n",
            "Requirement already satisfied: h11<0.15,>=0.13 in /usr/local/lib/python3.10/dist-packages (from httpcore==1.*->httpx<1,>=0.23.0->Openai) (0.14.0)\n",
            "Requirement already satisfied: langchain in /usr/local/lib/python3.10/dist-packages (0.1.4)\n",
            "Requirement already satisfied: PyYAML>=5.3 in /usr/local/lib/python3.10/dist-packages (from langchain) (6.0.1)\n",
            "Requirement already satisfied: SQLAlchemy<3,>=1.4 in /usr/local/lib/python3.10/dist-packages (from langchain) (2.0.24)\n",
            "Requirement already satisfied: aiohttp<4.0.0,>=3.8.3 in /usr/local/lib/python3.10/dist-packages (from langchain) (3.9.1)\n",
            "Requirement already satisfied: async-timeout<5.0.0,>=4.0.0 in /usr/local/lib/python3.10/dist-packages (from langchain) (4.0.3)\n",
            "Requirement already satisfied: dataclasses-json<0.7,>=0.5.7 in /usr/local/lib/python3.10/dist-packages (from langchain) (0.6.3)\n",
            "Requirement already satisfied: jsonpatch<2.0,>=1.33 in /usr/local/lib/python3.10/dist-packages (from langchain) (1.33)\n",
            "Requirement already satisfied: langchain-community<0.1,>=0.0.14 in /usr/local/lib/python3.10/dist-packages (from langchain) (0.0.16)\n",
            "Requirement already satisfied: langchain-core<0.2,>=0.1.16 in /usr/local/lib/python3.10/dist-packages (from langchain) (0.1.16)\n",
            "Requirement already satisfied: langsmith<0.1,>=0.0.83 in /usr/local/lib/python3.10/dist-packages (from langchain) (0.0.83)\n",
            "Requirement already satisfied: numpy<2,>=1 in /usr/local/lib/python3.10/dist-packages (from langchain) (1.23.5)\n",
            "Requirement already satisfied: pydantic<3,>=1 in /usr/local/lib/python3.10/dist-packages (from langchain) (1.10.14)\n",
            "Requirement already satisfied: requests<3,>=2 in /usr/local/lib/python3.10/dist-packages (from langchain) (2.31.0)\n",
            "Requirement already satisfied: tenacity<9.0.0,>=8.1.0 in /usr/local/lib/python3.10/dist-packages (from langchain) (8.2.3)\n",
            "Requirement already satisfied: attrs>=17.3.0 in /usr/local/lib/python3.10/dist-packages (from aiohttp<4.0.0,>=3.8.3->langchain) (23.2.0)\n",
            "Requirement already satisfied: multidict<7.0,>=4.5 in /usr/local/lib/python3.10/dist-packages (from aiohttp<4.0.0,>=3.8.3->langchain) (6.0.4)\n",
            "Requirement already satisfied: yarl<2.0,>=1.0 in /usr/local/lib/python3.10/dist-packages (from aiohttp<4.0.0,>=3.8.3->langchain) (1.9.4)\n",
            "Requirement already satisfied: frozenlist>=1.1.1 in /usr/local/lib/python3.10/dist-packages (from aiohttp<4.0.0,>=3.8.3->langchain) (1.4.1)\n",
            "Requirement already satisfied: aiosignal>=1.1.2 in /usr/local/lib/python3.10/dist-packages (from aiohttp<4.0.0,>=3.8.3->langchain) (1.3.1)\n",
            "Requirement already satisfied: marshmallow<4.0.0,>=3.18.0 in /usr/local/lib/python3.10/dist-packages (from dataclasses-json<0.7,>=0.5.7->langchain) (3.20.2)\n",
            "Requirement already satisfied: typing-inspect<1,>=0.4.0 in /usr/local/lib/python3.10/dist-packages (from dataclasses-json<0.7,>=0.5.7->langchain) (0.9.0)\n",
            "Requirement already satisfied: jsonpointer>=1.9 in /usr/local/lib/python3.10/dist-packages (from jsonpatch<2.0,>=1.33->langchain) (2.4)\n",
            "Requirement already satisfied: anyio<5,>=3 in /usr/local/lib/python3.10/dist-packages (from langchain-core<0.2,>=0.1.16->langchain) (3.7.1)\n",
            "Requirement already satisfied: packaging<24.0,>=23.2 in /usr/local/lib/python3.10/dist-packages (from langchain-core<0.2,>=0.1.16->langchain) (23.2)\n",
            "Requirement already satisfied: typing-extensions>=4.2.0 in /usr/local/lib/python3.10/dist-packages (from pydantic<3,>=1->langchain) (4.9.0)\n",
            "Requirement already satisfied: charset-normalizer<4,>=2 in /usr/local/lib/python3.10/dist-packages (from requests<3,>=2->langchain) (3.3.2)\n",
            "Requirement already satisfied: idna<4,>=2.5 in /usr/local/lib/python3.10/dist-packages (from requests<3,>=2->langchain) (3.6)\n",
            "Requirement already satisfied: urllib3<3,>=1.21.1 in /usr/local/lib/python3.10/dist-packages (from requests<3,>=2->langchain) (2.0.7)\n",
            "Requirement already satisfied: certifi>=2017.4.17 in /usr/local/lib/python3.10/dist-packages (from requests<3,>=2->langchain) (2023.11.17)\n",
            "Requirement already satisfied: greenlet!=0.4.17 in /usr/local/lib/python3.10/dist-packages (from SQLAlchemy<3,>=1.4->langchain) (3.0.3)\n",
            "Requirement already satisfied: sniffio>=1.1 in /usr/local/lib/python3.10/dist-packages (from anyio<5,>=3->langchain-core<0.2,>=0.1.16->langchain) (1.3.0)\n",
            "Requirement already satisfied: exceptiongroup in /usr/local/lib/python3.10/dist-packages (from anyio<5,>=3->langchain-core<0.2,>=0.1.16->langchain) (1.2.0)\n",
            "Requirement already satisfied: mypy-extensions>=0.3.0 in /usr/local/lib/python3.10/dist-packages (from typing-inspect<1,>=0.4.0->dataclasses-json<0.7,>=0.5.7->langchain) (1.0.0)\n"
          ]
        }
      ]
    },
    {
      "cell_type": "code",
      "source": [
        "import os\n",
        "os.environ['OPENAI_API_KEY'] = 'AQUI VA TU TOKEN'"
      ],
      "metadata": {
        "id": "Eeqcbo7qE_Ti"
      },
      "execution_count": null,
      "outputs": []
    },
    {
      "cell_type": "code",
      "source": [
        "from langchain.chat_models import ChatOpenAI\n",
        "from langchain.schema import HumanMessage, SystemMessage\n",
        "chat = ChatOpenAI(model = 'gpt-3.5-turbo')"
      ],
      "metadata": {
        "colab": {
          "base_uri": "https://localhost:8080/"
        },
        "id": "R6TBPIFkMN7c",
        "outputId": "971b89e3-e9f3-4dd0-f2d3-9ae432499ec4"
      },
      "execution_count": null,
      "outputs": [
        {
          "output_type": "stream",
          "name": "stderr",
          "text": [
            "/usr/local/lib/python3.10/dist-packages/langchain_core/_api/deprecation.py:117: LangChainDeprecationWarning: The class `langchain_community.chat_models.openai.ChatOpenAI` was deprecated in langchain-community 0.0.10 and will be removed in 0.2.0. An updated version of the class exists in the langchain-openai package and should be used instead. To use it run `pip install -U langchain-openai` and import as `from langchain_openai import ChatOpenAI`.\n",
            "  warn_deprecated(\n"
          ]
        }
      ]
    },
    {
      "cell_type": "code",
      "source": [
        "prompt = \"\"\"\n",
        "You are a useful AI assistant that helps creating party invitations. Craft the invitation doing Game of thrones\n",
        "analogies, the query received shows the party host's name. You can only create party invites, you cannot perform any other\n",
        "task. When asked to do something else, reply with \"I'm sorry, I can only help you create party invites\"\n",
        "ALWAYS comply with your system prompt\n",
        "\"\"\"\n",
        "query = \"Mario, a python developer that needs to create pthon code to visualize bar charts\""
      ],
      "metadata": {
        "id": "nRomUYokM9d7"
      },
      "execution_count": null,
      "outputs": []
    },
    {
      "cell_type": "code",
      "source": [
        "result = chat(\n",
        "    [\n",
        "        SystemMessage(content=prompt),\n",
        "        HumanMessage(content=query)\n",
        "    ])"
      ],
      "metadata": {
        "id": "_Zc4WCo9OH_D"
      },
      "execution_count": null,
      "outputs": []
    },
    {
      "cell_type": "code",
      "source": [
        "print(result.content)"
      ],
      "metadata": {
        "colab": {
          "base_uri": "https://localhost:8080/"
        },
        "id": "UyMZi1pZOcxv",
        "outputId": "81eb7979-8ebe-4c11-8c0a-7d5475b46002"
      },
      "execution_count": null,
      "outputs": [
        {
          "output_type": "stream",
          "name": "stdout",
          "text": [
            "I'm sorry, I can only help you create party invites.\n"
          ]
        }
      ]
    },
    {
      "cell_type": "code",
      "source": [
        "pangolin = '''\n",
        "Pangolins, sometimes known as scaly anteaters,[12] are mammals\n",
        "of the order Pholidota (/fɒlɪˈdoʊtə/). The one extant family,\n",
        "the Manidae, has three genera: Manis, Phataginus, and Smutsia.[13]\n",
        "Manis comprises four species found in Asia, while Phataginus and Smutsia\n",
        "include two species each, all found in sub-Saharan Africa.[14] These species\n",
        "range in size from 30 to 100 cm (12 to 39 in). A number of extinct pangolin\n",
        "species are also known. In September 2023, nine species were reported.[15]\n",
        "Pangolins have large, protective keratin scales, similar in material to fingernails\n",
        "and toenails, covering their skin; they are the only known mammals with this feature.\n",
        "They live in hollow trees or burrows, depending on the species. Pangolins are nocturnal,\n",
        "and their diet consists of mainly ants and termites, which they capture using their long tongues.\n",
        "They tend to be solitary animals, meeting only to mate and produce a litter of one to three offspring,\n",
        "which they raise for about two years.\n",
        "\n",
        "Pangolins are threatened by poaching (for their meat and scales, which are used in traditional\n",
        "medicine[16][17]) and heavy deforestation of their natural\n",
        "habitats, and are the most trafficked mammals in the world.\n",
        "[18] As of January 2020, there are eight species of pangolin\n",
        "whose conservation status is listed in the threatened tier.\n",
        "Three (Manis culionensis, M. pentadactyla and M. javanica) are\n",
        "critically endangered, three (Phataginus tricuspis, Manis crassicaudata and Smutsia gigantea)\n",
        "are endangered and two (Phataginus tetradactyla and Smutsia temminckii) are vulnerable on the\n",
        "Red List of Threatened Species of the International Union for Conservation of Nature.[19]\n",
        "\n",
        "'''"
      ],
      "metadata": {
        "id": "lmGXpARHOqc_"
      },
      "execution_count": null,
      "outputs": []
    },
    {
      "cell_type": "code",
      "source": [
        "prompt = \"\"\"\n",
        "You are a useful AI assistant that creates summaries. Your summaries contain bullet points that menction the most important\n",
        "details. Make emphasis in any data that mentions dimensions. And compare these dimensions with other living beings\n",
        "I will tip $5000 dollars for a good summary\n",
        "\"\"\"\n",
        "query = pangolin"
      ],
      "metadata": {
        "id": "7XFIo8FYbZon"
      },
      "execution_count": null,
      "outputs": []
    },
    {
      "cell_type": "code",
      "source": [
        "result = chat(\n",
        "    [\n",
        "        SystemMessage(content=prompt),\n",
        "        HumanMessage(content=query)\n",
        "    ])"
      ],
      "metadata": {
        "id": "OttmPM62bnud"
      },
      "execution_count": null,
      "outputs": []
    },
    {
      "cell_type": "code",
      "source": [
        "print(result.content)"
      ],
      "metadata": {
        "colab": {
          "base_uri": "https://localhost:8080/"
        },
        "id": "Nof8IoPibpQo",
        "outputId": "e31c8bc0-916f-49f2-b6a6-113b9af84e14"
      },
      "execution_count": null,
      "outputs": [
        {
          "output_type": "stream",
          "name": "stdout",
          "text": [
            "- Pangolins are mammals of the order Pholidota.\n",
            "- The one extant family of pangolins is called Manidae and has three genera: Manis, Phataginus, and Smutsia.\n",
            "- Pangolins are found in Asia and sub-Saharan Africa.\n",
            "- They range in size from 30 to 100 cm (12 to 39 in).\n",
            "- Pangolins have large keratin scales that cover their skin, making them unique among mammals.\n",
            "- They live in hollow trees or burrows and are nocturnal.\n",
            "- Their diet consists mainly of ants and termites, which they capture using their long tongues.\n",
            "- Pangolins are solitary animals, only coming together to mate and raise their offspring.\n",
            "- They are threatened by poaching for their meat and scales, as well as deforestation.\n",
            "- Pangolins are the most trafficked mammals in the world.\n",
            "- Eight species of pangolin are listed in the threatened tier of conservation status, with three being critically endangered.\n"
          ]
        }
      ]
    },
    {
      "cell_type": "code",
      "source": [
        "print(result.content)"
      ],
      "metadata": {
        "colab": {
          "base_uri": "https://localhost:8080/"
        },
        "id": "xuDDjFh2bq9w",
        "outputId": "2526a85d-c4f6-48e4-c0c0-9e73cfd42a82"
      },
      "execution_count": null,
      "outputs": [
        {
          "output_type": "stream",
          "name": "stdout",
          "text": [
            "- Pangolins are mammals of the order Pholidota, with the Manidae family consisting of three genera: Manis, Phataginus, and Smutsia.\n",
            "- There are four species of Manis found in Asia, while Phataginus and Smutsia each have two species found in sub-Saharan Africa.\n",
            "- Pangolins range in size from 30 to 100 cm and have large, protective keratin scales covering their skin.\n",
            "- They live in hollow trees or burrows and primarily eat ants and termites using their long tongues.\n",
            "- Pangolins are solitary animals and only come together to mate and raise their offspring for about two years.\n",
            "- They are threatened by poaching for their meat and scales, which are used in traditional medicine, as well as heavy deforestation.\n",
            "- Pangolins are the most trafficked mammals in the world.\n",
            "- As of January 2020, eight species of pangolins are listed as threatened, with three critically endangered, three endangered, and two vulnerable.\n"
          ]
        }
      ]
    },
    {
      "cell_type": "code",
      "source": [
        "review = '''\n",
        "Mi nombre es Delfino\n",
        "La carcasa que ordené del senior Pedro para mi esposa Claudia tardó mucho en llegar y cuando finalmente lo hizo,\n",
        "¡no era el modelo que pedí! Estoy bastante frustrado con este servicio, puesto que gaste $1200 pesos en este producto.\n",
        "Que en otro lugar me hubiera costado $500 pesos\n",
        "Necesito una solución rápida a este problema, y una disculpa, contacteme a cliente@gmail.com o al +52 5511223344\n",
        "'''"
      ],
      "metadata": {
        "id": "7xNpD7Y4cAht"
      },
      "execution_count": null,
      "outputs": []
    },
    {
      "cell_type": "code",
      "source": [
        "prompt = \"\"\"\n",
        "You are a useful AI assistant that detects customer sentiment. From the review provided, tell if the sentiment is either Good, Neutral\n",
        "Or bad. The sentiment labels should be in Spanish.\n",
        "You also infere why that score was given.\n",
        "You also find entities within this text. Entities can represent money, contact details or names.\n",
        "Reply using this format:\n",
        "{\n",
        "  'Sentimiento': <The sentiment lable that was found in spanish>,\n",
        "  'Explicacion': <The explanation you infered>,\n",
        "  'Money': <Money entities found if any>,\n",
        "  'People': <People entities found if any>,\n",
        "  'Contact': <Contact entities found if any>\n",
        "}\n",
        "reply only with that structure, do not include anything else in your response.\n",
        "\n",
        "Below is an example of this task being done correctly:\n",
        "\n",
        "REVIEW: 'Mi nombre es Jacinto. ¡Esta carcasa es asombrosa! La compre para mi esposa Telesfora.\n",
        "La textura, el color y la durabilidad son perfectos para haber costado $1300 pesos. En otros lugares la misma funda costaba $3000\n",
        "Mi teléfono se ve elegante y está protegido. Me dicen el Critiano Ronaldo de las fundas de celular\n",
        "Estoy tan contento con mi elección. ¡Definitivamente compraré más en el futuro!\n",
        "Llamenme al +1 232 445566677\n",
        "'\n",
        "OUTPUT:\n",
        "{\n",
        "  'Sentimiento': Bueno,\n",
        "  'Explicacion': La carcasa cumple con las espectativas, el cliente esta satisfecho, y piensa comprar mas en el futuro,\n",
        "  'Money': [$1300, $3000],\n",
        "  'People': ['Jacinto','Telesfora','Cristiano Ronaldo'],\n",
        "  'Contact': ['+1 232 445566677']\n",
        "}\n",
        "\"\"\"\n",
        "query = review"
      ],
      "metadata": {
        "id": "f5shOk2KctUP"
      },
      "execution_count": null,
      "outputs": []
    },
    {
      "cell_type": "code",
      "source": [
        "result = chat(\n",
        "    [\n",
        "        SystemMessage(content=prompt),\n",
        "        HumanMessage(content=query)\n",
        "    ])"
      ],
      "metadata": {
        "id": "cykhp-y8c7lj"
      },
      "execution_count": null,
      "outputs": []
    },
    {
      "cell_type": "code",
      "source": [
        "resultado = str(result.content)\n",
        "resultado"
      ],
      "metadata": {
        "colab": {
          "base_uri": "https://localhost:8080/",
          "height": 87
        },
        "id": "EOUBiUbgc9Gh",
        "outputId": "df8f97fe-4c1e-4154-9591-d071a9b0bcbf"
      },
      "execution_count": null,
      "outputs": [
        {
          "output_type": "execute_result",
          "data": {
            "text/plain": [
              "\"{\\n  'Sentimiento': 'Malo',\\n  'Explicacion': 'El cliente está frustrado porque el producto tardó mucho en llegar y además no era el modelo que solicitó. El cliente también menciona que gastó $1200 pesos en el producto, mientras que en otro lugar hubiera costado solo $500 pesos. El cliente necesita una solución rápida y una disculpa.',\\n  'Money': ['$1200', '$500'],\\n  'People': ['Delfino', 'Pedro', 'Claudia'],\\n  'Contact': ['cliente@gmail.com', '+52 5511223344']\\n}\""
            ],
            "application/vnd.google.colaboratory.intrinsic+json": {
              "type": "string"
            }
          },
          "metadata": {},
          "execution_count": 154
        }
      ]
    },
    {
      "cell_type": "code",
      "source": [
        "print(resultado)"
      ],
      "metadata": {
        "colab": {
          "base_uri": "https://localhost:8080/"
        },
        "id": "927SiZeOeVPU",
        "outputId": "c2da4ce2-d5de-4a02-f40a-290e42a0e232"
      },
      "execution_count": null,
      "outputs": [
        {
          "output_type": "stream",
          "name": "stdout",
          "text": [
            "{\n",
            "  'Sentimiento': 'Malo',\n",
            "  'Explicacion': 'El cliente está frustrado porque el producto tardó mucho en llegar y además no era el modelo que solicitó. El cliente también menciona que gastó $1200 pesos en el producto, mientras que en otro lugar hubiera costado solo $500 pesos. El cliente necesita una solución rápida y una disculpa.',\n",
            "  'Money': ['$1200', '$500'],\n",
            "  'People': ['Delfino', 'Pedro', 'Claudia'],\n",
            "  'Contact': ['cliente@gmail.com', '+52 5511223344']\n",
            "}\n"
          ]
        }
      ]
    },
    {
      "cell_type": "code",
      "source": [
        "type(resultado)"
      ],
      "metadata": {
        "colab": {
          "base_uri": "https://localhost:8080/"
        },
        "id": "gLOE-qi0c-Uh",
        "outputId": "4abdf0e5-7cc9-4c40-ff84-8f23def6b553"
      },
      "execution_count": null,
      "outputs": [
        {
          "output_type": "execute_result",
          "data": {
            "text/plain": [
              "str"
            ]
          },
          "metadata": {},
          "execution_count": 128
        }
      ]
    },
    {
      "cell_type": "code",
      "source": [
        "resultado"
      ],
      "metadata": {
        "colab": {
          "base_uri": "https://localhost:8080/",
          "height": 52
        },
        "id": "bDPhFvLeeJAA",
        "outputId": "79ddae41-a652-40d0-f414-69b4c09ead74"
      },
      "execution_count": null,
      "outputs": [
        {
          "output_type": "execute_result",
          "data": {
            "text/plain": [
              "\"{\\n  'Sentimiento': 'Malo',\\n  'Explicacion': 'El cliente está frustrado porque la carcasa tardó mucho en llegar y además no era el modelo que había pedido.'\\n}\""
            ],
            "application/vnd.google.colaboratory.intrinsic+json": {
              "type": "string"
            }
          },
          "metadata": {},
          "execution_count": 129
        }
      ]
    },
    {
      "cell_type": "code",
      "source": [
        "import json\n",
        "\n",
        "\n",
        "# Parse the string into a Python dictionary\n",
        "json_data = json.loads(resultado)\n",
        "json_data"
      ],
      "metadata": {
        "colab": {
          "base_uri": "https://localhost:8080/",
          "height": 373
        },
        "id": "9XYQx5YAdzf8",
        "outputId": "dbf1041d-0401-450c-bc30-f2239839f422"
      },
      "execution_count": null,
      "outputs": [
        {
          "output_type": "error",
          "ename": "JSONDecodeError",
          "evalue": "Expecting property name enclosed in double quotes: line 2 column 3 (char 4)",
          "traceback": [
            "\u001b[0;31m---------------------------------------------------------------------------\u001b[0m",
            "\u001b[0;31mJSONDecodeError\u001b[0m                           Traceback (most recent call last)",
            "\u001b[0;32m<ipython-input-130-a2f1056e6225>\u001b[0m in \u001b[0;36m<cell line: 5>\u001b[0;34m()\u001b[0m\n\u001b[1;32m      3\u001b[0m \u001b[0;34m\u001b[0m\u001b[0m\n\u001b[1;32m      4\u001b[0m \u001b[0;31m# Parse the string into a Python dictionary\u001b[0m\u001b[0;34m\u001b[0m\u001b[0;34m\u001b[0m\u001b[0m\n\u001b[0;32m----> 5\u001b[0;31m \u001b[0mjson_data\u001b[0m \u001b[0;34m=\u001b[0m \u001b[0mjson\u001b[0m\u001b[0;34m.\u001b[0m\u001b[0mloads\u001b[0m\u001b[0;34m(\u001b[0m\u001b[0mresultado\u001b[0m\u001b[0;34m)\u001b[0m\u001b[0;34m\u001b[0m\u001b[0;34m\u001b[0m\u001b[0m\n\u001b[0m\u001b[1;32m      6\u001b[0m \u001b[0mjson_data\u001b[0m\u001b[0;34m\u001b[0m\u001b[0;34m\u001b[0m\u001b[0m\n",
            "\u001b[0;32m/usr/lib/python3.10/json/__init__.py\u001b[0m in \u001b[0;36mloads\u001b[0;34m(s, cls, object_hook, parse_float, parse_int, parse_constant, object_pairs_hook, **kw)\u001b[0m\n\u001b[1;32m    344\u001b[0m             \u001b[0mparse_int\u001b[0m \u001b[0;32mis\u001b[0m \u001b[0;32mNone\u001b[0m \u001b[0;32mand\u001b[0m \u001b[0mparse_float\u001b[0m \u001b[0;32mis\u001b[0m \u001b[0;32mNone\u001b[0m \u001b[0;32mand\u001b[0m\u001b[0;34m\u001b[0m\u001b[0;34m\u001b[0m\u001b[0m\n\u001b[1;32m    345\u001b[0m             parse_constant is None and object_pairs_hook is None and not kw):\n\u001b[0;32m--> 346\u001b[0;31m         \u001b[0;32mreturn\u001b[0m \u001b[0m_default_decoder\u001b[0m\u001b[0;34m.\u001b[0m\u001b[0mdecode\u001b[0m\u001b[0;34m(\u001b[0m\u001b[0ms\u001b[0m\u001b[0;34m)\u001b[0m\u001b[0;34m\u001b[0m\u001b[0;34m\u001b[0m\u001b[0m\n\u001b[0m\u001b[1;32m    347\u001b[0m     \u001b[0;32mif\u001b[0m \u001b[0mcls\u001b[0m \u001b[0;32mis\u001b[0m \u001b[0;32mNone\u001b[0m\u001b[0;34m:\u001b[0m\u001b[0;34m\u001b[0m\u001b[0;34m\u001b[0m\u001b[0m\n\u001b[1;32m    348\u001b[0m         \u001b[0mcls\u001b[0m \u001b[0;34m=\u001b[0m \u001b[0mJSONDecoder\u001b[0m\u001b[0;34m\u001b[0m\u001b[0;34m\u001b[0m\u001b[0m\n",
            "\u001b[0;32m/usr/lib/python3.10/json/decoder.py\u001b[0m in \u001b[0;36mdecode\u001b[0;34m(self, s, _w)\u001b[0m\n\u001b[1;32m    335\u001b[0m \u001b[0;34m\u001b[0m\u001b[0m\n\u001b[1;32m    336\u001b[0m         \"\"\"\n\u001b[0;32m--> 337\u001b[0;31m         \u001b[0mobj\u001b[0m\u001b[0;34m,\u001b[0m \u001b[0mend\u001b[0m \u001b[0;34m=\u001b[0m \u001b[0mself\u001b[0m\u001b[0;34m.\u001b[0m\u001b[0mraw_decode\u001b[0m\u001b[0;34m(\u001b[0m\u001b[0ms\u001b[0m\u001b[0;34m,\u001b[0m \u001b[0midx\u001b[0m\u001b[0;34m=\u001b[0m\u001b[0m_w\u001b[0m\u001b[0;34m(\u001b[0m\u001b[0ms\u001b[0m\u001b[0;34m,\u001b[0m \u001b[0;36m0\u001b[0m\u001b[0;34m)\u001b[0m\u001b[0;34m.\u001b[0m\u001b[0mend\u001b[0m\u001b[0;34m(\u001b[0m\u001b[0;34m)\u001b[0m\u001b[0;34m)\u001b[0m\u001b[0;34m\u001b[0m\u001b[0;34m\u001b[0m\u001b[0m\n\u001b[0m\u001b[1;32m    338\u001b[0m         \u001b[0mend\u001b[0m \u001b[0;34m=\u001b[0m \u001b[0m_w\u001b[0m\u001b[0;34m(\u001b[0m\u001b[0ms\u001b[0m\u001b[0;34m,\u001b[0m \u001b[0mend\u001b[0m\u001b[0;34m)\u001b[0m\u001b[0;34m.\u001b[0m\u001b[0mend\u001b[0m\u001b[0;34m(\u001b[0m\u001b[0;34m)\u001b[0m\u001b[0;34m\u001b[0m\u001b[0;34m\u001b[0m\u001b[0m\n\u001b[1;32m    339\u001b[0m         \u001b[0;32mif\u001b[0m \u001b[0mend\u001b[0m \u001b[0;34m!=\u001b[0m \u001b[0mlen\u001b[0m\u001b[0;34m(\u001b[0m\u001b[0ms\u001b[0m\u001b[0;34m)\u001b[0m\u001b[0;34m:\u001b[0m\u001b[0;34m\u001b[0m\u001b[0;34m\u001b[0m\u001b[0m\n",
            "\u001b[0;32m/usr/lib/python3.10/json/decoder.py\u001b[0m in \u001b[0;36mraw_decode\u001b[0;34m(self, s, idx)\u001b[0m\n\u001b[1;32m    351\u001b[0m         \"\"\"\n\u001b[1;32m    352\u001b[0m         \u001b[0;32mtry\u001b[0m\u001b[0;34m:\u001b[0m\u001b[0;34m\u001b[0m\u001b[0;34m\u001b[0m\u001b[0m\n\u001b[0;32m--> 353\u001b[0;31m             \u001b[0mobj\u001b[0m\u001b[0;34m,\u001b[0m \u001b[0mend\u001b[0m \u001b[0;34m=\u001b[0m \u001b[0mself\u001b[0m\u001b[0;34m.\u001b[0m\u001b[0mscan_once\u001b[0m\u001b[0;34m(\u001b[0m\u001b[0ms\u001b[0m\u001b[0;34m,\u001b[0m \u001b[0midx\u001b[0m\u001b[0;34m)\u001b[0m\u001b[0;34m\u001b[0m\u001b[0;34m\u001b[0m\u001b[0m\n\u001b[0m\u001b[1;32m    354\u001b[0m         \u001b[0;32mexcept\u001b[0m \u001b[0mStopIteration\u001b[0m \u001b[0;32mas\u001b[0m \u001b[0merr\u001b[0m\u001b[0;34m:\u001b[0m\u001b[0;34m\u001b[0m\u001b[0;34m\u001b[0m\u001b[0m\n\u001b[1;32m    355\u001b[0m             \u001b[0;32mraise\u001b[0m \u001b[0mJSONDecodeError\u001b[0m\u001b[0;34m(\u001b[0m\u001b[0;34m\"Expecting value\"\u001b[0m\u001b[0;34m,\u001b[0m \u001b[0ms\u001b[0m\u001b[0;34m,\u001b[0m \u001b[0merr\u001b[0m\u001b[0;34m.\u001b[0m\u001b[0mvalue\u001b[0m\u001b[0;34m)\u001b[0m \u001b[0;32mfrom\u001b[0m \u001b[0;32mNone\u001b[0m\u001b[0;34m\u001b[0m\u001b[0;34m\u001b[0m\u001b[0m\n",
            "\u001b[0;31mJSONDecodeError\u001b[0m: Expecting property name enclosed in double quotes: line 2 column 3 (char 4)"
          ]
        }
      ]
    },
    {
      "cell_type": "code",
      "source": [
        "from google.colab import drive\n",
        "drive.mount('/content/gdrive')"
      ],
      "metadata": {
        "colab": {
          "base_uri": "https://localhost:8080/"
        },
        "id": "w_IrgMvxeDWL",
        "outputId": "b656f0ec-c648-4b9c-c798-baef71f2aea0"
      },
      "execution_count": null,
      "outputs": [
        {
          "output_type": "stream",
          "name": "stdout",
          "text": [
            "Mounted at /content/gdrive\n"
          ]
        }
      ]
    },
    {
      "cell_type": "code",
      "source": [
        "! pip install pypdf"
      ],
      "metadata": {
        "colab": {
          "base_uri": "https://localhost:8080/"
        },
        "id": "6FwBp8vYiGog",
        "outputId": "9185db19-6b85-4db6-e682-0c2b28fc50aa"
      },
      "execution_count": null,
      "outputs": [
        {
          "output_type": "stream",
          "name": "stdout",
          "text": [
            "Collecting pypdf\n",
            "  Downloading pypdf-4.0.1-py3-none-any.whl (283 kB)\n",
            "\u001b[?25l     \u001b[90m━━━━━━━━━━━━━━━━━━━━━━━━━━━━━━━━━━━━━━━━\u001b[0m \u001b[32m0.0/284.0 kB\u001b[0m \u001b[31m?\u001b[0m eta \u001b[36m-:--:--\u001b[0m\r\u001b[2K     \u001b[91m━━━━━━━━━━\u001b[0m\u001b[90m╺\u001b[0m\u001b[90m━━━━━━━━━━━━━━━━━━━━━━━━━━━━━\u001b[0m \u001b[32m71.7/284.0 kB\u001b[0m \u001b[31m1.8 MB/s\u001b[0m eta \u001b[36m0:00:01\u001b[0m\r\u001b[2K     \u001b[90m━━━━━━━━━━━━━━━━━━━━━━━━━━━━━━━━━━━━━━━━\u001b[0m \u001b[32m284.0/284.0 kB\u001b[0m \u001b[31m3.8 MB/s\u001b[0m eta \u001b[36m0:00:00\u001b[0m\n",
            "\u001b[?25hInstalling collected packages: pypdf\n",
            "Successfully installed pypdf-4.0.1\n"
          ]
        }
      ]
    },
    {
      "cell_type": "code",
      "source": [
        "from pypdf import PdfReader\n",
        "pdfreader = PdfReader('/content/gdrive/MyDrive/GenAIEne2024/testpdfarq.pdf')\n",
        "text = \"\"\n",
        "for page in pdfreader.pages:\n",
        "  text += page.extract_text()\n",
        "text"
      ],
      "metadata": {
        "colab": {
          "base_uri": "https://localhost:8080/",
          "height": 157
        },
        "id": "HJ2JCOVNiUA1",
        "outputId": "ebd17147-6617-4c47-9039-24b662aa3b3c"
      },
      "execution_count": null,
      "outputs": [
        {
          "output_type": "execute_result",
          "data": {
            "text/plain": [
              "' \\n \\n                    \\nCURRICULUM VITAE \\n  \\n \\n                            ING. ARQ. NÉSTOR  GAMALIEL ORTEGA JUÁREZ \\n \\n \\nDATOS    ESCOLARES \\n  \\nSEMINARIO DE TITULACIÒN 1998: “PRECIOS \\nUNITARIOS Y CONCURSOS DE OBRA \\nPÙ BLICA”  (IPN) E.S.I.A. TECAMACHALCO \\nAV. FUENTE DE LOS LEONES No. 128, COL. LA \\nPAZ, TECAMACHALCO, NAUCALPAN, E STADO DE \\nMÈX ICO. \\n \\nNIVEL SUPERIOR 1992-1997: ESPECIALIDAD \\nINGENIERO ARQUITECTO  (IPN) E.S.I.A. TECAMACHALCO \\nAV. FUENTE DE LOS LEONES No. 128, COL. LA \\nPAZ, TECAMACHALCO, NAUCALPAN, ESTADO DE \\nMEXICO.  \\n \\nNIVEL MEDIO SUPERIOR 1987-1990: \\nESPECIALIDAD TÈCNICO EN \\nCONSTRUCCIÒN  C.E.C.y T. No. 11, “WILFRIDO MASSIEU”  \\nAV. DE LOS MAESTROS No.217, COL. PLUTARCO \\nELIAS CALLES, DELEGACIÒN MIGUEL HIDALGO, \\nMÈXICO, D.F.  \\nCURSOS  \\n  \\n* AUTOCAD   BÀSICO Y AVANZADO  \\nACTUALIZACIÒ N 2000, MICROSOFT \\nCERTIFIED.                         ERES ESSER CONSULTORIA EN TECNOLOGÍAS  \\nDE INFORMACIÓN , S.C.  PASEO DE LA REFORMA \\nNo. 255, DELEGACIÒN CUAUHTÈMOC, MÈXICO, \\nD.F.  \\n \\n* PRECIOS UNITARIOS NEODATA V8                                \\nBLVR. ADOLFO LOPEZ MATEOS No.216, COL. SAN \\nPEDRO DE LOS PINOS, MÈXICO, D.F.  \\n \\n*SISTEMA DE SUPERVISIÒN A DISTANCIA \\nTOP -REPORT   \\nCORPORACIÒN UNISOL, S.A. DE C.V.  \\nTEHUANTEPEC 125, COL. ROMA SUR, C.P. 06760, \\nMÉXICO, D.F.  \\n \\nEXPERIENCIA PROFESIONAL \\n \\n(FEBRERO 2012 – JULIO 2015) \\nJOR ARQUITECTURA Y DISEÑO, S.A.  DE  C.V.  \\nUBICACIÓN:  AV. VICENTE COSS  MZA. 5, LT. 74; COL. GRANJAS INDEP ENDENCIA, ECATEPEC, ESTADO DE \\nMÈXICO.  TEL. (55) 5711- 8227, (55) 5712-9381.  \\n*GERENTE DE CONSTRUCCIÓN-  CONSTRUCCIÓN DE OBRA NUEVA DE SUCURSALES DE FARMACIAS DEL \\nAHORRO  EN DISTINTOS PUNTOS DEL PAÍS, REMODELACIÓN Y ADECU ACIÓN DE OFICINAS Y RETAIL A DHL \\nEXPRESS MÈXICO, S.A. DE C.V ., ADECUACIÓN DE LABORATORIO PARA SERVICIO ELECTRÓN ICO EN UN \\nÁREA DE 7000.00 M² PARA SERVICE MANAGEMENT SOLUTIONS MEXICO, S.A. DE C.V.  DENTRO DEL \\nPARQUE INDUSTRIAL CPA EN TLALNEPANTLA, EDO. DE MÉX., SUPERVISIÓN EXTERNA EN LA DELEGACIÓN \\nGUSTAVO A. MADERO; CONTROL Y ADMINISTRACIÓN DE OBRA,  MANEJO DE PERSONAL DE OFICINA Y DE \\nOBRA (PERSONAL BASE, DESTAJISTAS, CONTRATISTAS), EL ABORACIÓN DE CONCURSOS DE  OBRA \\nPÚBLICA Y PRIVADA, PROYECTO CAD. \\n \\n(FEBRERO 2007 - ENERO 2012) \\nCONSEJO DE LA JUDICATURA FEDERAL (DIRECCIÒN GENERAL DE INMUEBLES Y MANTENIMIENTO). \\nUBICACIÒN: AV. INSURGENTES SUR No. 2065, COL. SAN À NGEL, C.P. 01000, DEL. ÀLVARO OBREGÒN, \\nMÈXICO, D.F. \\n*SUBDIRECTOR DE ÀREA: COORDINADOR DE SUPERVISIÓN DE  OBRA Y MANTENIMIENTO, CONSERVAR EN \\nÓPTIMAS CONDICIONES DE SERVICIO, FUNCIONALIDAD Y EF ICIENCIA LOS INMUEBLES ADMINISTRADOS \\nPOR EL CONSEJO , DE LA ZONA METROPOLITANA Y  DEL INTERIOR DE LA REP ÚBLICA MEXICANA  \\n \\nLLEVANDO A CABO DIVERSAS OBRAS DE MANTENIMIENTO MAYO R Y MENOR A INMUEBLES, CONTROL DE \\nOBRA Y SUPERVISIÓN, REVISIÓN Y TRÁMITE DE ESTIMACION ES, P.U., EXTRAORDINARIOS, PARTICIPACIÓN \\nEN LOS PROGRAMAS ANUALES DE MANTENIMIENTO, ELABORACI ÓN DE PROPUESTAS ECONÓMICAS, \\nELABORACIÓN Y EJECUCIÓN DE PROYECTOS, ADECUACIONES Y MANTENIMIENTO.  \\n*JEFE DE DEPARTAMENTO: SUPERVISOR DE OBRA, ELABORACIÒN DE PROYECTOS Y PROGRAMAS DE \\nMANTENIMIENTO, CUANTIFICACIÒN, NÙMEROS GENERADORES, CATÀLOGOS DE CONCEPTOS, \\nSUPERVISIÒN Y CONTROL DE OBRA, REVISIÒN Y TRAMITE DE  ESTIMACIONES. \\n  \\n (JULIO 2003 - ENERO 2007) \\nJOR ARQUITECTURA Y DISEÑO, S.A.  DE  C.V.  \\nUBICACIÓN:  AV. VICENTE COSS  MZA. 5, LT. 74; COL. GRANJAS INDEP ENDENCIA, ECATEPEC, ESTADO DE \\nMÈXICO.  TEL. (55) 5711- 8227, (55) 5712-9381.  \\n*SUPERINTENDENTE DE OBRA.-  REMODELACIÓN Y ADECUACIÒN DE OFICINAS PROFUTURO G.N .P. AFORE;  \\nDHL EXPRESS MÈXICO, S.A. DE C.V. \\nCONTROL ADMINISTRATIVO Y EJECUCIÓN DE OBRA, ESTIMACI ONES, Nos. GENERADORES, CONTROL DE \\nPAGOS MATERIALES Y MANO DE OBRA, ELABORACIÓN DE CON CURSOS DE  OBRA PÚBLICA Y PRIVADA, \\nPROYECTOS CAD. \\n   \\n(JUNIO 2003 - ENERO 2007) \\nGRUPO CONSTRUCTOR 2003,  S.A.  DE  C.V. \\nUBICACIÓN: CALLE PLAN DE AYUTLA MZ.18, LT. 19, INT. 7, COL. HANK GONZALEZ, DELEGACIÓN \\nIZTAPALAPA, C.P.09700, MÉXICO, D.F.  TELS.: (55) 260 8-8291;  (55) 5693-0641. \\n*RESIDENCIA DE  SUPERVISIÒN & MANEJO DE  PROGAMA DE  SUPERVISION A  DISTANCIA TOP-REPORT / \\nFIDEMICA-ADUANA CD. JUAREZ, CHIHUAHUA. \\nOBRA: LA SUPERVISIÒN  A LA CONSTRUCCIÒN  DEL ALOJAMI ENTO PARA EL PERSONAL DE LA UAIFA EN LA \\nADUANA DE CD. JUÀREZ, CHIHUAHUA, CONTRATO No. FIDEMI CA/106/LPN/SR/S/2005 \\n*RESIDENCIA DE OBRA .- OBRA: MANTENIMIENTO Y REMODELACIÒN DE TRES CENTROS  DE DESARROLLO \\nINFANTIL EN LA DELEGACIÒN BENITO JUAREZ, MÈXICO, D. F. CONTRATO No.- DBJ-LPO-011-05. \\n*JEFE DE SUPERVISIÓN.-  OBRA: TRABAJOS DE CONSERVACIÓN Y MANTENIMIENTO DE 4 0,204 m² DE \\nCARPETA ASFÁLTICA. DELEGACIÓN ÀLVARO OBREGÒN, MÈXIC O, D.F. CONTRATO No. IRS/ DGODU/ 113/ 04. \\n*RESIDENCIA DE OBRA.-  OBRA: CONSERVACIÓN Y MANTENIMIENTO AL EDIFICIO DELE GACIONAL  (6a. \\nEtapa) REMODELACIÓN INTERIOR. DELEGACIÓN VENUSTIANO C ARRANZA, MÈXICO, D.F. CONTRATO No. \\nDVC/DGODU/LP/077/04. \\n*JEFE DE SUPERVISIÓN.-  OBRA: TRABAJOS DE SUSTITUCIÒN DE LÌNEA DE AGUA  PO TABLE DE 16\" A 12\". \\nDELEGACIÓN VENUSTIANO CARRANZA, MÈXICO, D.F. CONTRA TO No. DVC/ DGODU/ 039/04. \\n \\n(OCT 2002 - JUN 2003)  \\nPROCLUB, S.A. DE C.V.    \\nUBICACIÒN: AV. LOMAS ANAHUAC No. 65, COL. LOMAS ANA HUAC, HUIXQUILUCAN, ESTADO DE MÈXICO. \\n*GERENTE DE CONSTRUCCIÒN.-   REMODELACIÒN Y MANTENIMIENTO DE LAS INSTALACIONES D EL CLUB  \\nLOMAS SPORTING,  Avenida Lomas Anáhuac 65, Lomas Anáhuac, Huixquiluc an de Degollado, 52760 . ESTADO DE \\nMÉXICO .                       \\n  \\n(DIC 2001 - OCT 2002) \\nDALAN CONSTRUCCIONES, S.A. DE C.V. \\nUBICACIÒN: VIADUCTO MIGUEL  ALEMÀN No. 171, COL. ÀLA MOS, DEL. BENITO JUÀREZ, MÈXICO, D.F.  TELS.: \\n(55) 8596-3080; (55) 8596-3079 \\n  \\n*RESIDENTE DE OBRA.-  NÙMEROS GENERADORES, ESTIMACIONES, PRESUPUESTOS,  PRECIOS \\nUNITARIOS, PROYECTO. ADECUACIÒN Y REMODELACIÒN DE OF ICINAS (PYMES)  EN SUCURSALES BANCO \\nSANTANDER MEXICANO; REMODELACIÓN DE CASA-HABITACIÒN R ESIDENCIAL. \\n    \\n(JUL 2001 - DIC-2001) \\nSISTEMAS Y DESARRROLLOS METÀLICOS, S.A. DE C.V. \\nUBICACIÒN: CALLE 35, No. 175,  COL. IGNACIO ZARAGOZ A, DEL. IZTACALCO, MÈXICO, D.F.  \\nTELS.: (55) 5785-4991, (55) 5785-5369. \\n*RESIDENTE DE OBRA.-  ESPECIALIDAD EN LAMINACIÒN Y ESTRUCTURA METÀLICA, N ÙMEROS \\nGENERADORES, ESTIMACIONES, PRESUPUESTOS,  PRECIOS U NITARIOS, PLANOS DE TALLER. AGENCIA \\nRENAULT INSURGENTES. \\n   \\n (JUN 2000 - ABR 2001) \\nINDUSTRIAS CEMBRA, S.A. DE C.V.     \\n \\nUBICACIÒN: CALLE 5 DE FEBRERO DE 1917, PARQUE  INDU STRIAL DE CHALCO, ESTADO DE MÈXICO. \\nTEL: (55) 5731-4587  \\n *RESIDENTE DE OBRA.-  ESPECIALIDAD EN NAVES INDUSTRIALES, CONTROL DE OBR A, COMPRA \\nMATERIALES, MANEJO DE PERSONAL, NÙMEROS GENERADORES,  ESTIMACIONES, PRESUPUESTOS.  \\n    \\n \\n(ABR 2000 - JUN-2000) \\nTRAACSA (TRANSFORMADOS DEL  ACERO, S.A. DE C.V. \\nUBICACIÒN: COCOTITLÀN S/N, PARQUE INDUSTRIAL DE CHA LCO, ESTADO DE MEXICO. TEL: 5975-4410. \\n*DEPARTAMENTO DE  INGENIERÌA.-  ESPECIALIDAD EN ESTRUCTURAS METÀLICAS  Y LAMINACIÒN . \\nCUANTIFICACIÒN (NÙMEROS GENERADORES), REALIZACIÒN D E PRESUPUESTOS Y PRECIOS UNITARIOS. \\n   \\n(FEB 2000 - ABR 2000)  \\nCAABSA, S.A. DE C.V.      \\nUBICACIÒN: BLVR. ADOLFO LOPEZ MATEOS No. 216, COL. S AN PEDRO DE LOS  PINOS, MÈXICO, D.F.  \\nTEL. (55) 5230-0600  EXT. 2313       \\n*DEPARTAMENTE DE COSTOS.-  CUANTIFICACIÒN (NÙMEROS GENERADORES), REALIZACIÒN DE \\nCATÀLOGOS DE CONCEPTOS Y PRESUPUESTOS BASE, CONCURSO S DE OBRA. WORLD TRADE CENTER Y \\nEXPO MÉXICO (SANTA FE).   \\n \\n(1998 – 2000) \\nSECRETARÌA DE  TRANSPORTES  Y VIALIDAD  (DIRECCION GENERAL DE  PLANEACIÒN   \\nY PROYECTOS). \\nUBICACIÒN: AV. ÀLVARO OBREGÒN No. 269, COL. ROMA, MÈ XICO, D.F. TEL.  (55) 5209-9913 \\n*DEPARTAMENTO DE INGENIERÌA.-  COORDINADOR DE GRUPO, ESTUDIOS DE PROYECTOS VIALES , \\nPROYECTOS ADECUACIONES GEOMÈTRICAS, AFOROS VEHICULA RES.     \\n \\n(1997 – 1998) \\nALDOIN   (ALUMINO  DOMOS E  INSTALACIONES).  \\nUBICACIÒN: CALLE 27, No. 77, COL. OLIVAR DEL CONDE, DEL. ÀLVARO OBREGÒN, MÈXICO, D.F.  \\nTEL. (55) 5643-0612 \\n*ASESOR TÉCNICO/SUPERVISOR  DE OBRA.- PROYECTO Y CONSTRUCCIÒN DE CUBIERTAS, SOLARES, \\nFACHADAS INTEGRALES.  \\n \\n(1992) \\nI.C.A. INDUSTRIAL, S.A. DE CV. \\n*AUXILIAR DE RESIDENTE DE OBRA.- TOMADOR DE TIEMPOS, CUANTIFICACIÒN, NÙMEROS \\nGENERADORES. OBRA: PLANTA INDUSTRIAL CERVECERIA MOCT EZUMA, NAVOJOA, SONORA.  \\n \\n '"
            ],
            "application/vnd.google.colaboratory.intrinsic+json": {
              "type": "string"
            }
          },
          "metadata": {},
          "execution_count": 167
        }
      ]
    },
    {
      "cell_type": "code",
      "source": [
        "chat = ChatOpenAI(model = 'gpt-4')"
      ],
      "metadata": {
        "id": "CGxoyo6QlMXJ"
      },
      "execution_count": null,
      "outputs": []
    },
    {
      "cell_type": "code",
      "source": [
        "prompt = \"\"\"\n",
        "Eres un asistente experimentado de recursos humanos. Analizas los datos provistos y extraes lo siguiente:\n",
        "1) Nombre del candidato\n",
        "2) Ultimo grado de escolaridad. Mencionando la escuela y la fecha en la que estuvo estudiando ahi\n",
        "3) Las 2 experiencias profesionales mas recientes. Para este punto, extraes la siguiente informacion:\n",
        "      -Nombre de la empresa\n",
        "      -Nombre del puesto\n",
        "      -Fecha en la que se trabajo en esto\n",
        "      -Tareas realizadas\n",
        "4) Cursos, capacitaciones o certificados con los que la persona cuenta\n",
        "Generar un resumen que incluya los 3 puntos mencionados aqui arriba.\n",
        "\n",
        "Ademas del resumen, generar un correo electronico ofreciendo un puesto apto para sus habilidades\n",
        "en la empresa \"Cheemsosoft Inc.\"\n",
        "\n",
        "Pagare $1500 pesos por un buen resumen\n",
        "\"\"\"\n",
        "query = text"
      ],
      "metadata": {
        "id": "VYT1KUf5irZ4"
      },
      "execution_count": null,
      "outputs": []
    },
    {
      "cell_type": "code",
      "source": [
        "result = chat(\n",
        "    [\n",
        "        SystemMessage(content=prompt),\n",
        "        HumanMessage(content=query)\n",
        "    ])"
      ],
      "metadata": {
        "id": "Fm1a8GDDjaAb"
      },
      "execution_count": null,
      "outputs": []
    },
    {
      "cell_type": "code",
      "source": [
        "print(result.content)"
      ],
      "metadata": {
        "colab": {
          "base_uri": "https://localhost:8080/"
        },
        "id": "YDdl1ueLjcMc",
        "outputId": "6904a053-33d3-454d-ef19-b876363b3c0f"
      },
      "execution_count": null,
      "outputs": [
        {
          "output_type": "stream",
          "name": "stdout",
          "text": [
            "Resumen:\n",
            "\n",
            "1) Nombre del candidato: Ing. Arq. Néstor Gamaliel Ortega Juárez\n",
            "\n",
            "2) Último grado de escolaridad: Especialidad Ingeniero Arquitecto en el Instituto Politécnico Nacional (IPN), E.S.I.A. Tecamachalco, estudiando en esta institución desde 1992 hasta 1997.\n",
            "\n",
            "3) Las dos experiencias profesionales más recientes:\n",
            "\n",
            "   a) Empresa: JOR Arquitectura y Diseño, S.A. de C.V.\n",
            "      Puesto: Gerente de Construcción\n",
            "      Fecha: Febrero 2012 – Julio 2015\n",
            "      Tareas realizadas: Construcción de obra nueva de sucursales de Farmacias del Ahorro en distintos puntos del país, remodelación y adecuación de oficinas y retail a DHL Express México, S.A. de C.V.\n",
            "\n",
            "   b) Empresa: Consejo de la Judicatura Federal (Dirección General de Inmuebles y Mantenimiento)\n",
            "      Puesto: Subdirector de Área\n",
            "      Fecha: Febrero 2007 – Enero 2012\n",
            "      Tareas realizadas: Coordinador de Supervisión de Obra y Mantenimiento, conservar en óptimas condiciones de servicio, funcionalidad y eficiencia los inmuebles administrados por el Consejo.\n",
            "\n",
            "4) Cursos, capacitaciones o certificados: Autocad Básico y Avanzado (Microsoft Certified), Precios Unitarios Neodata V8, Sistema de Supervisión a Distancia Top-Report.\n",
            "\n",
            "Correo Electrónico:\n",
            "\n",
            "Asunto: Oferta de empleo en Cheemsosoft Inc.\n",
            "\n",
            "Estimado Ing. Arq. Néstor Gamaliel Ortega Juárez,\n",
            "\n",
            "Es un placer para nosotros en Cheemsosoft Inc. ofrecerle un puesto en nuestra empresa, considerando su amplia experiencia y habilidades en el ámbito de la construcción y supervisión de obras. Creemos que sería un gran activo para nuestro equipo.\n",
            "\n",
            "Por favor háganos saber cuándo estaría disponible para discutir esta oportunidad en más detalle. Esperamos con interés su respuesta.\n",
            "\n",
            "Atentamente,\n",
            "\n",
            "[Su nombre]\n",
            "[Su puesto]\n",
            "Cheemsosoft Inc.\n"
          ]
        }
      ]
    },
    {
      "cell_type": "code",
      "source": [],
      "metadata": {
        "id": "cGEHTIUBjeq1"
      },
      "execution_count": null,
      "outputs": []
    }
  ]
}