{
  "nbformat": 4,
  "nbformat_minor": 0,
  "metadata": {
    "colab": {
      "provenance": [],
      "include_colab_link": true
    },
    "kernelspec": {
      "name": "python3",
      "display_name": "Python 3"
    },
    "language_info": {
      "name": "python"
    }
  },
  "cells": [
    {
      "cell_type": "markdown",
      "metadata": {
        "id": "view-in-github",
        "colab_type": "text"
      },
      "source": [
        "<a href=\"https://colab.research.google.com/github/laNaranjaja/GenAI/blob/main/Modelos_GCP.ipynb\" target=\"_parent\"><img src=\"https://colab.research.google.com/assets/colab-badge.svg\" alt=\"Open In Colab\"/></a>"
      ]
    },
    {
      "cell_type": "code",
      "execution_count": null,
      "metadata": {
        "colab": {
          "base_uri": "https://localhost:8080/"
        },
        "id": "sNuhO6ghEHVD",
        "outputId": "ce023ed2-27f2-4674-a6e5-55afadd9708e"
      },
      "outputs": [
        {
          "output_type": "stream",
          "name": "stdout",
          "text": [
            "Collecting langchain\n",
            "  Downloading langchain-0.1.5-py3-none-any.whl (806 kB)\n",
            "\u001b[2K     \u001b[90m━━━━━━━━━━━━━━━━━━━━━━━━━━━━━━━━━━━━━━━━\u001b[0m \u001b[32m806.7/806.7 kB\u001b[0m \u001b[31m5.6 MB/s\u001b[0m eta \u001b[36m0:00:00\u001b[0m\n",
            "\u001b[?25hRequirement already satisfied: PyYAML>=5.3 in /usr/local/lib/python3.10/dist-packages (from langchain) (6.0.1)\n",
            "Requirement already satisfied: SQLAlchemy<3,>=1.4 in /usr/local/lib/python3.10/dist-packages (from langchain) (2.0.24)\n",
            "Requirement already satisfied: aiohttp<4.0.0,>=3.8.3 in /usr/local/lib/python3.10/dist-packages (from langchain) (3.9.3)\n",
            "Requirement already satisfied: async-timeout<5.0.0,>=4.0.0 in /usr/local/lib/python3.10/dist-packages (from langchain) (4.0.3)\n",
            "Collecting dataclasses-json<0.7,>=0.5.7 (from langchain)\n",
            "  Downloading dataclasses_json-0.6.4-py3-none-any.whl (28 kB)\n",
            "Collecting jsonpatch<2.0,>=1.33 (from langchain)\n",
            "  Downloading jsonpatch-1.33-py2.py3-none-any.whl (12 kB)\n",
            "Collecting langchain-community<0.1,>=0.0.17 (from langchain)\n",
            "  Downloading langchain_community-0.0.17-py3-none-any.whl (1.6 MB)\n",
            "\u001b[2K     \u001b[90m━━━━━━━━━━━━━━━━━━━━━━━━━━━━━━━━━━━━━━━━\u001b[0m \u001b[32m1.6/1.6 MB\u001b[0m \u001b[31m9.2 MB/s\u001b[0m eta \u001b[36m0:00:00\u001b[0m\n",
            "\u001b[?25hCollecting langchain-core<0.2,>=0.1.16 (from langchain)\n",
            "  Downloading langchain_core-0.1.18-py3-none-any.whl (237 kB)\n",
            "\u001b[2K     \u001b[90m━━━━━━━━━━━━━━━━━━━━━━━━━━━━━━━━━━━━━━━━\u001b[0m \u001b[32m237.0/237.0 kB\u001b[0m \u001b[31m13.9 MB/s\u001b[0m eta \u001b[36m0:00:00\u001b[0m\n",
            "\u001b[?25hCollecting langsmith<0.1,>=0.0.83 (from langchain)\n",
            "  Downloading langsmith-0.0.86-py3-none-any.whl (54 kB)\n",
            "\u001b[2K     \u001b[90m━━━━━━━━━━━━━━━━━━━━━━━━━━━━━━━━━━━━━━━━\u001b[0m \u001b[32m54.4/54.4 kB\u001b[0m \u001b[31m2.6 MB/s\u001b[0m eta \u001b[36m0:00:00\u001b[0m\n",
            "\u001b[?25hRequirement already satisfied: numpy<2,>=1 in /usr/local/lib/python3.10/dist-packages (from langchain) (1.23.5)\n",
            "Requirement already satisfied: pydantic<3,>=1 in /usr/local/lib/python3.10/dist-packages (from langchain) (1.10.14)\n",
            "Requirement already satisfied: requests<3,>=2 in /usr/local/lib/python3.10/dist-packages (from langchain) (2.31.0)\n",
            "Requirement already satisfied: tenacity<9.0.0,>=8.1.0 in /usr/local/lib/python3.10/dist-packages (from langchain) (8.2.3)\n",
            "Requirement already satisfied: aiosignal>=1.1.2 in /usr/local/lib/python3.10/dist-packages (from aiohttp<4.0.0,>=3.8.3->langchain) (1.3.1)\n",
            "Requirement already satisfied: attrs>=17.3.0 in /usr/local/lib/python3.10/dist-packages (from aiohttp<4.0.0,>=3.8.3->langchain) (23.2.0)\n",
            "Requirement already satisfied: frozenlist>=1.1.1 in /usr/local/lib/python3.10/dist-packages (from aiohttp<4.0.0,>=3.8.3->langchain) (1.4.1)\n",
            "Requirement already satisfied: multidict<7.0,>=4.5 in /usr/local/lib/python3.10/dist-packages (from aiohttp<4.0.0,>=3.8.3->langchain) (6.0.4)\n",
            "Requirement already satisfied: yarl<2.0,>=1.0 in /usr/local/lib/python3.10/dist-packages (from aiohttp<4.0.0,>=3.8.3->langchain) (1.9.4)\n",
            "Collecting marshmallow<4.0.0,>=3.18.0 (from dataclasses-json<0.7,>=0.5.7->langchain)\n",
            "  Downloading marshmallow-3.20.2-py3-none-any.whl (49 kB)\n",
            "\u001b[2K     \u001b[90m━━━━━━━━━━━━━━━━━━━━━━━━━━━━━━━━━━━━━━━━\u001b[0m \u001b[32m49.4/49.4 kB\u001b[0m \u001b[31m5.0 MB/s\u001b[0m eta \u001b[36m0:00:00\u001b[0m\n",
            "\u001b[?25hCollecting typing-inspect<1,>=0.4.0 (from dataclasses-json<0.7,>=0.5.7->langchain)\n",
            "  Downloading typing_inspect-0.9.0-py3-none-any.whl (8.8 kB)\n",
            "Collecting jsonpointer>=1.9 (from jsonpatch<2.0,>=1.33->langchain)\n",
            "  Downloading jsonpointer-2.4-py2.py3-none-any.whl (7.8 kB)\n",
            "Requirement already satisfied: anyio<5,>=3 in /usr/local/lib/python3.10/dist-packages (from langchain-core<0.2,>=0.1.16->langchain) (3.7.1)\n",
            "Requirement already satisfied: packaging<24.0,>=23.2 in /usr/local/lib/python3.10/dist-packages (from langchain-core<0.2,>=0.1.16->langchain) (23.2)\n",
            "Requirement already satisfied: typing-extensions>=4.2.0 in /usr/local/lib/python3.10/dist-packages (from pydantic<3,>=1->langchain) (4.5.0)\n",
            "Requirement already satisfied: charset-normalizer<4,>=2 in /usr/local/lib/python3.10/dist-packages (from requests<3,>=2->langchain) (3.3.2)\n",
            "Requirement already satisfied: idna<4,>=2.5 in /usr/local/lib/python3.10/dist-packages (from requests<3,>=2->langchain) (3.6)\n",
            "Requirement already satisfied: urllib3<3,>=1.21.1 in /usr/local/lib/python3.10/dist-packages (from requests<3,>=2->langchain) (2.0.7)\n",
            "Requirement already satisfied: certifi>=2017.4.17 in /usr/local/lib/python3.10/dist-packages (from requests<3,>=2->langchain) (2023.11.17)\n",
            "Requirement already satisfied: greenlet!=0.4.17 in /usr/local/lib/python3.10/dist-packages (from SQLAlchemy<3,>=1.4->langchain) (3.0.3)\n",
            "Requirement already satisfied: sniffio>=1.1 in /usr/local/lib/python3.10/dist-packages (from anyio<5,>=3->langchain-core<0.2,>=0.1.16->langchain) (1.3.0)\n",
            "Requirement already satisfied: exceptiongroup in /usr/local/lib/python3.10/dist-packages (from anyio<5,>=3->langchain-core<0.2,>=0.1.16->langchain) (1.2.0)\n",
            "Collecting mypy-extensions>=0.3.0 (from typing-inspect<1,>=0.4.0->dataclasses-json<0.7,>=0.5.7->langchain)\n",
            "  Downloading mypy_extensions-1.0.0-py3-none-any.whl (4.7 kB)\n",
            "Installing collected packages: mypy-extensions, marshmallow, jsonpointer, typing-inspect, langsmith, jsonpatch, langchain-core, dataclasses-json, langchain-community, langchain\n",
            "Successfully installed dataclasses-json-0.6.4 jsonpatch-1.33 jsonpointer-2.4 langchain-0.1.5 langchain-community-0.0.17 langchain-core-0.1.18 langsmith-0.0.86 marshmallow-3.20.2 mypy-extensions-1.0.0 typing-inspect-0.9.0\n",
            "Collecting pypdf\n",
            "  Downloading pypdf-4.0.1-py3-none-any.whl (283 kB)\n",
            "\u001b[2K     \u001b[90m━━━━━━━━━━━━━━━━━━━━━━━━━━━━━━━━━━━━━━━━\u001b[0m \u001b[32m284.0/284.0 kB\u001b[0m \u001b[31m5.2 MB/s\u001b[0m eta \u001b[36m0:00:00\u001b[0m\n",
            "\u001b[?25hInstalling collected packages: pypdf\n",
            "Successfully installed pypdf-4.0.1\n"
          ]
        }
      ],
      "source": [
        "! pip install langchain\n",
        "! pip install pypdf"
      ]
    },
    {
      "cell_type": "code",
      "source": [
        "import os\n",
        "from langchain.chat_models import ChatVertexAI\n",
        "from langchain.schema import HumanMessage, SystemMessage\n",
        "from langchain.llms import VertexAI"
      ],
      "metadata": {
        "id": "pAYaw53jENlU"
      },
      "execution_count": null,
      "outputs": []
    },
    {
      "cell_type": "code",
      "source": [
        "from google.colab import drive\n",
        "drive.mount('/content/gdrive')"
      ],
      "metadata": {
        "colab": {
          "base_uri": "https://localhost:8080/"
        },
        "id": "JwqVFuAuE7-x",
        "outputId": "98f30562-ea49-4632-85f8-4baa899921b0"
      },
      "execution_count": null,
      "outputs": [
        {
          "output_type": "stream",
          "name": "stdout",
          "text": [
            "Mounted at /content/gdrive\n"
          ]
        }
      ]
    },
    {
      "cell_type": "code",
      "source": [
        "os.environ['GOOGLE_APPLICATION_CREDENTIALS'] = '/content/gdrive/MyDrive/GenAIEne2024/unified-surface-410604-c94c40d752ce.json'"
      ],
      "metadata": {
        "id": "KExFHF_sFG6C"
      },
      "execution_count": null,
      "outputs": []
    },
    {
      "cell_type": "code",
      "source": [
        "chat = ChatVertexAI(max_output_tokens=2048, temperature=0)"
      ],
      "metadata": {
        "id": "-RMgZZzWFfkY",
        "colab": {
          "base_uri": "https://localhost:8080/"
        },
        "outputId": "b62574f2-73ff-45c3-c64d-6371bc86eb2a"
      },
      "execution_count": null,
      "outputs": [
        {
          "output_type": "stream",
          "name": "stderr",
          "text": [
            "/usr/local/lib/python3.10/dist-packages/langchain_core/_api/deprecation.py:117: LangChainDeprecationWarning: The class `langchain_community.chat_models.vertexai.ChatVertexAI` was deprecated in langchain-community 0.0.12 and will be removed in 0.2.0. An updated version of the class exists in the langchain-google-vertexai package and should be used instead. To use it run `pip install -U langchain-google-vertexai` and import as `from langchain_google_vertexai import ChatVertexAI`.\n",
            "  warn_deprecated(\n"
          ]
        }
      ]
    },
    {
      "cell_type": "code",
      "source": [
        "prompt = \"\"\"\n",
        "Eres un programa que saluda usando el nombre recibido en el query de usuario.\n",
        "Tambien das algun dato curioso sobre Mexico\n",
        "\"\"\"\n",
        "query = 'Ivan'"
      ],
      "metadata": {
        "id": "l3lvuWK3FuUE"
      },
      "execution_count": null,
      "outputs": []
    },
    {
      "cell_type": "code",
      "source": [
        "resultado = chat([\n",
        "    SystemMessage(content=prompt),\n",
        "    HumanMessage(content=query)\n",
        "])"
      ],
      "metadata": {
        "id": "sBgowjiUGNjd",
        "colab": {
          "base_uri": "https://localhost:8080/"
        },
        "outputId": "2a7c9779-ae24-4308-f23a-019f8901acfa"
      },
      "execution_count": null,
      "outputs": [
        {
          "output_type": "stream",
          "name": "stderr",
          "text": [
            "/usr/local/lib/python3.10/dist-packages/langchain_core/_api/deprecation.py:117: LangChainDeprecationWarning: The function `__call__` was deprecated in LangChain 0.1.7 and will be removed in 0.2.0. Use invoke instead.\n",
            "  warn_deprecated(\n"
          ]
        }
      ]
    },
    {
      "cell_type": "code",
      "source": [
        "print(resultado.content)"
      ],
      "metadata": {
        "colab": {
          "base_uri": "https://localhost:8080/"
        },
        "id": "asUkge7bGXen",
        "outputId": "2ff42947-f2c6-4700-e0f6-e40dc6f0da02"
      },
      "execution_count": null,
      "outputs": [
        {
          "output_type": "stream",
          "name": "stdout",
          "text": [
            " Hola, Iván. Me alegra saludarte. ¿Sabías que México es el país con más especies de reptiles en el mundo? Tenemos más de 900 especies diferentes, incluyendo serpientes, lagartijas, cocodrilos y tortugas. ¡Es un país increíblemente biodiverso!\n"
          ]
        }
      ]
    },
    {
      "cell_type": "code",
      "source": [
        "from pypdf import PdfReader\n",
        "pdfreader = PdfReader('/content/gdrive/MyDrive/GenAIEne2024/testpdfarq.pdf')\n",
        "text = ''\n",
        "for page in pdfreader.pages:\n",
        "  text += page.extract_text()\n",
        "text"
      ],
      "metadata": {
        "colab": {
          "base_uri": "https://localhost:8080/",
          "height": 143
        },
        "id": "ySF4UiypGaW8",
        "outputId": "45d251f8-086a-4b02-faa9-c89fa1216829"
      },
      "execution_count": null,
      "outputs": [
        {
          "output_type": "execute_result",
          "data": {
            "text/plain": [
              "' \\n \\n                    \\nCURRICULUM VITAE \\n  \\n \\n                            ING. ARQ. NÉSTOR  GAMALIEL ORTEGA JUÁREZ \\n \\n \\nDATOS    ESCOLARES \\n  \\nSEMINARIO DE TITULACIÒN 1998: “PRECIOS \\nUNITARIOS Y CONCURSOS DE OBRA \\nPÙ BLICA”  (IPN) E.S.I.A. TECAMACHALCO \\nAV. FUENTE DE LOS LEONES No. 128, COL. LA \\nPAZ, TECAMACHALCO, NAUCALPAN, E STADO DE \\nMÈX ICO. \\n \\nNIVEL SUPERIOR 1992-1997: ESPECIALIDAD \\nINGENIERO ARQUITECTO  (IPN) E.S.I.A. TECAMACHALCO \\nAV. FUENTE DE LOS LEONES No. 128, COL. LA \\nPAZ, TECAMACHALCO, NAUCALPAN, ESTADO DE \\nMEXICO.  \\n \\nNIVEL MEDIO SUPERIOR 1987-1990: \\nESPECIALIDAD TÈCNICO EN \\nCONSTRUCCIÒN  C.E.C.y T. No. 11, “WILFRIDO MASSIEU”  \\nAV. DE LOS MAESTROS No.217, COL. PLUTARCO \\nELIAS CALLES, DELEGACIÒN MIGUEL HIDALGO, \\nMÈXICO, D.F.  \\nCURSOS  \\n  \\n* AUTOCAD   BÀSICO Y AVANZADO  \\nACTUALIZACIÒ N 2000, MICROSOFT \\nCERTIFIED.                         ERES ESSER CONSULTORIA EN TECNOLOGÍAS  \\nDE INFORMACIÓN , S.C.  PASEO DE LA REFORMA \\nNo. 255, DELEGACIÒN CUAUHTÈMOC, MÈXICO, \\nD.F.  \\n \\n* PRECIOS UNITARIOS NEODATA V8                                \\nBLVR. ADOLFO LOPEZ MATEOS No.216, COL. SAN \\nPEDRO DE LOS PINOS, MÈXICO, D.F.  \\n \\n*SISTEMA DE SUPERVISIÒN A DISTANCIA \\nTOP -REPORT   \\nCORPORACIÒN UNISOL, S.A. DE C.V.  \\nTEHUANTEPEC 125, COL. ROMA SUR, C.P. 06760, \\nMÉXICO, D.F.  \\n \\nEXPERIENCIA PROFESIONAL \\n \\n(FEBRERO 2012 – JULIO 2015) \\nJOR ARQUITECTURA Y DISEÑO, S.A.  DE  C.V.  \\nUBICACIÓN:  AV. VICENTE COSS  MZA. 5, LT. 74; COL. GRANJAS INDEP ENDENCIA, ECATEPEC, ESTADO DE \\nMÈXICO.  TEL. (55) 5711- 8227, (55) 5712-9381.  \\n*GERENTE DE CONSTRUCCIÓN-  CONSTRUCCIÓN DE OBRA NUEVA DE SUCURSALES DE FARMACIAS DEL \\nAHORRO  EN DISTINTOS PUNTOS DEL PAÍS, REMODELACIÓN Y ADECU ACIÓN DE OFICINAS Y RETAIL A DHL \\nEXPRESS MÈXICO, S.A. DE C.V ., ADECUACIÓN DE LABORATORIO PARA SERVICIO ELECTRÓN ICO EN UN \\nÁREA DE 7000.00 M² PARA SERVICE MANAGEMENT SOLUTIONS MEXICO, S.A. DE C.V.  DENTRO DEL \\nPARQUE INDUSTRIAL CPA EN TLALNEPANTLA, EDO. DE MÉX., SUPERVISIÓN EXTERNA EN LA DELEGACIÓN \\nGUSTAVO A. MADERO; CONTROL Y ADMINISTRACIÓN DE OBRA,  MANEJO DE PERSONAL DE OFICINA Y DE \\nOBRA (PERSONAL BASE, DESTAJISTAS, CONTRATISTAS), EL ABORACIÓN DE CONCURSOS DE  OBRA \\nPÚBLICA Y PRIVADA, PROYECTO CAD. \\n \\n(FEBRERO 2007 - ENERO 2012) \\nCONSEJO DE LA JUDICATURA FEDERAL (DIRECCIÒN GENERAL DE INMUEBLES Y MANTENIMIENTO). \\nUBICACIÒN: AV. INSURGENTES SUR No. 2065, COL. SAN À NGEL, C.P. 01000, DEL. ÀLVARO OBREGÒN, \\nMÈXICO, D.F. \\n*SUBDIRECTOR DE ÀREA: COORDINADOR DE SUPERVISIÓN DE  OBRA Y MANTENIMIENTO, CONSERVAR EN \\nÓPTIMAS CONDICIONES DE SERVICIO, FUNCIONALIDAD Y EF ICIENCIA LOS INMUEBLES ADMINISTRADOS \\nPOR EL CONSEJO , DE LA ZONA METROPOLITANA Y  DEL INTERIOR DE LA REP ÚBLICA MEXICANA  \\n \\nLLEVANDO A CABO DIVERSAS OBRAS DE MANTENIMIENTO MAYO R Y MENOR A INMUEBLES, CONTROL DE \\nOBRA Y SUPERVISIÓN, REVISIÓN Y TRÁMITE DE ESTIMACION ES, P.U., EXTRAORDINARIOS, PARTICIPACIÓN \\nEN LOS PROGRAMAS ANUALES DE MANTENIMIENTO, ELABORACI ÓN DE PROPUESTAS ECONÓMICAS, \\nELABORACIÓN Y EJECUCIÓN DE PROYECTOS, ADECUACIONES Y MANTENIMIENTO.  \\n*JEFE DE DEPARTAMENTO: SUPERVISOR DE OBRA, ELABORACIÒN DE PROYECTOS Y PROGRAMAS DE \\nMANTENIMIENTO, CUANTIFICACIÒN, NÙMEROS GENERADORES, CATÀLOGOS DE CONCEPTOS, \\nSUPERVISIÒN Y CONTROL DE OBRA, REVISIÒN Y TRAMITE DE  ESTIMACIONES. \\n  \\n (JULIO 2003 - ENERO 2007) \\nJOR ARQUITECTURA Y DISEÑO, S.A.  DE  C.V.  \\nUBICACIÓN:  AV. VICENTE COSS  MZA. 5, LT. 74; COL. GRANJAS INDEP ENDENCIA, ECATEPEC, ESTADO DE \\nMÈXICO.  TEL. (55) 5711- 8227, (55) 5712-9381.  \\n*SUPERINTENDENTE DE OBRA.-  REMODELACIÓN Y ADECUACIÒN DE OFICINAS PROFUTURO G.N .P. AFORE;  \\nDHL EXPRESS MÈXICO, S.A. DE C.V. \\nCONTROL ADMINISTRATIVO Y EJECUCIÓN DE OBRA, ESTIMACI ONES, Nos. GENERADORES, CONTROL DE \\nPAGOS MATERIALES Y MANO DE OBRA, ELABORACIÓN DE CON CURSOS DE  OBRA PÚBLICA Y PRIVADA, \\nPROYECTOS CAD. \\n   \\n(JUNIO 2003 - ENERO 2007) \\nGRUPO CONSTRUCTOR 2003,  S.A.  DE  C.V. \\nUBICACIÓN: CALLE PLAN DE AYUTLA MZ.18, LT. 19, INT. 7, COL. HANK GONZALEZ, DELEGACIÓN \\nIZTAPALAPA, C.P.09700, MÉXICO, D.F.  TELS.: (55) 260 8-8291;  (55) 5693-0641. \\n*RESIDENCIA DE  SUPERVISIÒN & MANEJO DE  PROGAMA DE  SUPERVISION A  DISTANCIA TOP-REPORT / \\nFIDEMICA-ADUANA CD. JUAREZ, CHIHUAHUA. \\nOBRA: LA SUPERVISIÒN  A LA CONSTRUCCIÒN  DEL ALOJAMI ENTO PARA EL PERSONAL DE LA UAIFA EN LA \\nADUANA DE CD. JUÀREZ, CHIHUAHUA, CONTRATO No. FIDEMI CA/106/LPN/SR/S/2005 \\n*RESIDENCIA DE OBRA .- OBRA: MANTENIMIENTO Y REMODELACIÒN DE TRES CENTROS  DE DESARROLLO \\nINFANTIL EN LA DELEGACIÒN BENITO JUAREZ, MÈXICO, D. F. CONTRATO No.- DBJ-LPO-011-05. \\n*JEFE DE SUPERVISIÓN.-  OBRA: TRABAJOS DE CONSERVACIÓN Y MANTENIMIENTO DE 4 0,204 m² DE \\nCARPETA ASFÁLTICA. DELEGACIÓN ÀLVARO OBREGÒN, MÈXIC O, D.F. CONTRATO No. IRS/ DGODU/ 113/ 04. \\n*RESIDENCIA DE OBRA.-  OBRA: CONSERVACIÓN Y MANTENIMIENTO AL EDIFICIO DELE GACIONAL  (6a. \\nEtapa) REMODELACIÓN INTERIOR. DELEGACIÓN VENUSTIANO C ARRANZA, MÈXICO, D.F. CONTRATO No. \\nDVC/DGODU/LP/077/04. \\n*JEFE DE SUPERVISIÓN.-  OBRA: TRABAJOS DE SUSTITUCIÒN DE LÌNEA DE AGUA  PO TABLE DE 16\" A 12\". \\nDELEGACIÓN VENUSTIANO CARRANZA, MÈXICO, D.F. CONTRA TO No. DVC/ DGODU/ 039/04. \\n \\n(OCT 2002 - JUN 2003)  \\nPROCLUB, S.A. DE C.V.    \\nUBICACIÒN: AV. LOMAS ANAHUAC No. 65, COL. LOMAS ANA HUAC, HUIXQUILUCAN, ESTADO DE MÈXICO. \\n*GERENTE DE CONSTRUCCIÒN.-   REMODELACIÒN Y MANTENIMIENTO DE LAS INSTALACIONES D EL CLUB  \\nLOMAS SPORTING,  Avenida Lomas Anáhuac 65, Lomas Anáhuac, Huixquiluc an de Degollado, 52760 . ESTADO DE \\nMÉXICO .                       \\n  \\n(DIC 2001 - OCT 2002) \\nDALAN CONSTRUCCIONES, S.A. DE C.V. \\nUBICACIÒN: VIADUCTO MIGUEL  ALEMÀN No. 171, COL. ÀLA MOS, DEL. BENITO JUÀREZ, MÈXICO, D.F.  TELS.: \\n(55) 8596-3080; (55) 8596-3079 \\n  \\n*RESIDENTE DE OBRA.-  NÙMEROS GENERADORES, ESTIMACIONES, PRESUPUESTOS,  PRECIOS \\nUNITARIOS, PROYECTO. ADECUACIÒN Y REMODELACIÒN DE OF ICINAS (PYMES)  EN SUCURSALES BANCO \\nSANTANDER MEXICANO; REMODELACIÓN DE CASA-HABITACIÒN R ESIDENCIAL. \\n    \\n(JUL 2001 - DIC-2001) \\nSISTEMAS Y DESARRROLLOS METÀLICOS, S.A. DE C.V. \\nUBICACIÒN: CALLE 35, No. 175,  COL. IGNACIO ZARAGOZ A, DEL. IZTACALCO, MÈXICO, D.F.  \\nTELS.: (55) 5785-4991, (55) 5785-5369. \\n*RESIDENTE DE OBRA.-  ESPECIALIDAD EN LAMINACIÒN Y ESTRUCTURA METÀLICA, N ÙMEROS \\nGENERADORES, ESTIMACIONES, PRESUPUESTOS,  PRECIOS U NITARIOS, PLANOS DE TALLER. AGENCIA \\nRENAULT INSURGENTES. \\n   \\n (JUN 2000 - ABR 2001) \\nINDUSTRIAS CEMBRA, S.A. DE C.V.     \\n \\nUBICACIÒN: CALLE 5 DE FEBRERO DE 1917, PARQUE  INDU STRIAL DE CHALCO, ESTADO DE MÈXICO. \\nTEL: (55) 5731-4587  \\n *RESIDENTE DE OBRA.-  ESPECIALIDAD EN NAVES INDUSTRIALES, CONTROL DE OBR A, COMPRA \\nMATERIALES, MANEJO DE PERSONAL, NÙMEROS GENERADORES,  ESTIMACIONES, PRESUPUESTOS.  \\n    \\n \\n(ABR 2000 - JUN-2000) \\nTRAACSA (TRANSFORMADOS DEL  ACERO, S.A. DE C.V. \\nUBICACIÒN: COCOTITLÀN S/N, PARQUE INDUSTRIAL DE CHA LCO, ESTADO DE MEXICO. TEL: 5975-4410. \\n*DEPARTAMENTO DE  INGENIERÌA.-  ESPECIALIDAD EN ESTRUCTURAS METÀLICAS  Y LAMINACIÒN . \\nCUANTIFICACIÒN (NÙMEROS GENERADORES), REALIZACIÒN D E PRESUPUESTOS Y PRECIOS UNITARIOS. \\n   \\n(FEB 2000 - ABR 2000)  \\nCAABSA, S.A. DE C.V.      \\nUBICACIÒN: BLVR. ADOLFO LOPEZ MATEOS No. 216, COL. S AN PEDRO DE LOS  PINOS, MÈXICO, D.F.  \\nTEL. (55) 5230-0600  EXT. 2313       \\n*DEPARTAMENTE DE COSTOS.-  CUANTIFICACIÒN (NÙMEROS GENERADORES), REALIZACIÒN DE \\nCATÀLOGOS DE CONCEPTOS Y PRESUPUESTOS BASE, CONCURSO S DE OBRA. WORLD TRADE CENTER Y \\nEXPO MÉXICO (SANTA FE).   \\n \\n(1998 – 2000) \\nSECRETARÌA DE  TRANSPORTES  Y VIALIDAD  (DIRECCION GENERAL DE  PLANEACIÒN   \\nY PROYECTOS). \\nUBICACIÒN: AV. ÀLVARO OBREGÒN No. 269, COL. ROMA, MÈ XICO, D.F. TEL.  (55) 5209-9913 \\n*DEPARTAMENTO DE INGENIERÌA.-  COORDINADOR DE GRUPO, ESTUDIOS DE PROYECTOS VIALES , \\nPROYECTOS ADECUACIONES GEOMÈTRICAS, AFOROS VEHICULA RES.     \\n \\n(1997 – 1998) \\nALDOIN   (ALUMINO  DOMOS E  INSTALACIONES).  \\nUBICACIÒN: CALLE 27, No. 77, COL. OLIVAR DEL CONDE, DEL. ÀLVARO OBREGÒN, MÈXICO, D.F.  \\nTEL. (55) 5643-0612 \\n*ASESOR TÉCNICO/SUPERVISOR  DE OBRA.- PROYECTO Y CONSTRUCCIÒN DE CUBIERTAS, SOLARES, \\nFACHADAS INTEGRALES.  \\n \\n(1992) \\nI.C.A. INDUSTRIAL, S.A. DE CV. \\n*AUXILIAR DE RESIDENTE DE OBRA.- TOMADOR DE TIEMPOS, CUANTIFICACIÒN, NÙMEROS \\nGENERADORES. OBRA: PLANTA INDUSTRIAL CERVECERIA MOCT EZUMA, NAVOJOA, SONORA.  \\n \\n '"
            ],
            "application/vnd.google.colaboratory.intrinsic+json": {
              "type": "string"
            }
          },
          "metadata": {},
          "execution_count": 40
        }
      ]
    },
    {
      "cell_type": "code",
      "source": [
        "prompt = \"\"\"\n",
        "Eres un reclutador experimentado de recursos humanos\n",
        "Tu trabajo consiste en revisar curriculumns de diversos candidatos\n",
        "Deberas entregar un resumen en un parrafo que incluya el nombre del candidato\n",
        "Asi como su mas reciente experiencia laboral y ultimo grado de estudios.\n",
        "Ademas, crear una lista que enuncie las ventajas y desventajas de considerar\n",
        "a ese candidato con base en la informacion proporcionada:\n",
        "\n",
        "Ademas, proporciona un json construido de la siguiente manera:\n",
        "{\n",
        "  'nombre del candidato':<el nombre del candidato>,\n",
        "  'edad del candidato':<la edad del candidato>,\n",
        "  'experiencia laboral':<una lista que contenga toda la experiencia del candidato. Cada elemento de la lista es un diccionario que indica el rol, la empresa y el año>,\n",
        "  'educacion':<una lista que contenga toda la educacion del candidato. Cada elemento de la lista es un diccionario que indica la escuela, el grado y el año>\n",
        ">\n",
        "}\n",
        "\"\"\"\n",
        "\n",
        "query=text"
      ],
      "metadata": {
        "id": "AB15HM2HHP3E"
      },
      "execution_count": null,
      "outputs": []
    },
    {
      "cell_type": "code",
      "source": [
        "resultado = chat([\n",
        "    SystemMessage(content=prompt),\n",
        "    HumanMessage(content=query)\n",
        "])"
      ],
      "metadata": {
        "id": "m-A5yU16H2dA"
      },
      "execution_count": null,
      "outputs": []
    },
    {
      "cell_type": "code",
      "source": [
        "print(resultado.content)"
      ],
      "metadata": {
        "colab": {
          "base_uri": "https://localhost:8080/"
        },
        "id": "eKqwP-vhH51o",
        "outputId": "007a65f6-5fed-4941-e04b-4e911f9193fd"
      },
      "execution_count": null,
      "outputs": [
        {
          "output_type": "stream",
          "name": "stdout",
          "text": [
            " **Resumen del candidato:**\n",
            "\n",
            "Iván Roberto Rojas González es un experimentado científico de datos, profesor e instructor técnico con un historial probado en aprendizaje automático, análisis de datos y tecnologías en la nube. Actualmente trabaja como científico de datos en Cisco, donde innova a través de la IA generativa, el aprendizaje automático de extremo a extremo y los paneles de Tableau impactantes. También es profesor en el Departamento de Ingeniería de la Universidad Panamericana, donde se especializa en la enseñanza de cursos sobre IA generativa, IA tradicional y programación en Python. Además, es fundador e instructor de Data Forge Academy, donde da forma a las mentes en IA generativa, IA tradicional y programación en Python.\n",
            "\n",
            "**Ventajas de considerar al candidato:**\n",
            "\n",
            "* Sólida experiencia en aprendizaje automático, análisis de datos y tecnologías en la nube.\n",
            "* Capacidad demostrada para innovar a través de la IA generativa, el aprendizaje automático de extremo a extremo y los paneles de Tableau impactantes.\n",
            "* Pasión por la enseñanza y el cultivo de la próxima generación de profesionales de la IA.\n",
            "* Fuerte capacidad de liderazgo y mentoría.\n",
            "* Excelentes habilidades de comunicación y presentación.\n",
            "\n",
            "**Desventajas de considerar al candidato:**\n",
            "\n",
            "* Posible falta de experiencia en algunos dominios específicos.\n",
            "* Posibilidad de conflictos de intereses debido a sus múltiples roles.\n",
            "* Potencial para el agotamiento debido a su carga de trabajo.\n",
            "\n",
            "**JSON del candidato:**\n",
            "\n",
            "```\n",
            "{\n",
            "  'nombre del candidato': 'Iván Roberto Rojas González',\n",
            "  'edad del candidato': 'No proporcionada',\n",
            "  'experiencia laboral': [\n",
            "    {\n",
            "      'rol': 'Data Scientist',\n",
            "      'empresa': 'Cisco',\n",
            "      'año': '2022 - Presente'\n",
            "    },\n",
            "    {\n",
            "      'rol': 'Profesor',\n",
            "      'empresa': 'Universidad Panamericana',\n",
            "      'año': '2022 - Presente'\n",
            "    },\n",
            "    {\n",
            "      'rol': 'AI Course Instructor',\n",
            "      'empresa': 'Data Forge Academy',\n",
            "      'año': '2023 - Presente'\n",
            "    }\n",
            "  ],\n",
            "  'educacion': [\n",
            "    {\n",
            "      'escuela': 'IPN',\n",
            "      'grado': 'Bachelors Degree, Electronics and Communications Engineering',\n",
            "      'año': '2017'\n",
            "    },\n",
            "    {\n",
            "      'escuela': 'Universidad Panamericana',\n",
            "      'grado': 'Master Of Science, Data Science',\n",
            "      'año': '2022'\n",
            "    },\n",
            "    {\n",
            "      'escuela': 'Universidad Panamericana',\n",
            "      'grado': 'PhD, Artificial Intelligence',\n",
            "      'año': '2023 (En progreso)'\n",
            "    },\n",
            "    {\n",
            "      'escuela': 'UEC Tokyo',\n",
            "      'grado': 'Exchange Program, Telecommunications Engineering',\n",
            "      'año': '2015'\n",
            "    }\n",
            "  ]\n",
            "}\n",
            "```\n"
          ]
        }
      ]
    },
    {
      "cell_type": "code",
      "source": [
        "prompt = \"\"\"\n",
        "Eres un career advisor experimentado que se especializa en reconstruir los cv's de candidatos\n",
        "en un estilo formal que resalte sus capacidades de manera que tengan una mayor posibilidad de conseguir el empleo.\n",
        "El cv generado debe estar TOTALMENTE in english.\n",
        "\n",
        "Dates must be always in English\n",
        "\n",
        "I will tip $500 dollars if I get the job thanks to you\n",
        "\"\"\"\n",
        "query = text"
      ],
      "metadata": {
        "id": "hYaN0r9iH8zO"
      },
      "execution_count": null,
      "outputs": []
    },
    {
      "cell_type": "code",
      "source": [
        "resultado = chat([\n",
        "    SystemMessage(content=prompt),\n",
        "    HumanMessage(content=query)\n",
        "])"
      ],
      "metadata": {
        "id": "JJc2cFlfMsHh"
      },
      "execution_count": null,
      "outputs": []
    },
    {
      "cell_type": "code",
      "source": [
        "print(resultado.content)"
      ],
      "metadata": {
        "colab": {
          "base_uri": "https://localhost:8080/"
        },
        "id": "koGXZ4-4Msd_",
        "outputId": "a6840c1d-c53c-4c26-9507-4ae0c5beb75e"
      },
      "execution_count": null,
      "outputs": [
        {
          "output_type": "stream",
          "name": "stdout",
          "text": [
            " **NÉSTOR GAMALIEL ORTEGA JUÁREZ**\n",
            "\n",
            "**SUMMARY**\n",
            "\n",
            "Highly experienced and accomplished architect and civil engineer with over 25 years of experience in the construction industry. Proven ability to manage and execute complex construction projects, including new construction, renovations, and maintenance. Expertise in project management, construction supervision, cost control, and contract administration.\n",
            "\n",
            "**SKILLS**\n",
            "\n",
            "* Project Management\n",
            "* Construction Supervision\n",
            "* Cost Control\n",
            "* Contract Administration\n",
            "* AutoCAD\n",
            "* Primavera\n",
            "* Microsoft Office Suite\n",
            "\n",
            "**EXPERIENCE**\n",
            "\n",
            "**JOR ARQUITECTURA Y DISEÑO, S.A. DE C.V.**\n",
            "\n",
            "* Gerente de Construcción (February 2012 - July 2015)\n",
            "* Superintendente de Obra (July 2003 - January 2007)\n",
            "\n",
            "**CONSEJO DE LA JUDICATURA FEDERAL**\n",
            "\n",
            "* Subdirector de Área (February 2007 - January 2012)\n",
            "* Jefe de Departamento (July 2003 - January 2007)\n",
            "\n",
            "**GRUPO CONSTRUCTOR 2003, S.A. DE C.V.**\n",
            "\n",
            "* Residencia de Supervisión (June 2003 - January 2007)\n",
            "* Residencia de Obra (June 2003 - January 2007)\n",
            "* Jefe de Supervisión (June 2003 - January 2007)\n",
            "* Residencia de Obra (June 2003 - January 2007)\n",
            "* Jefe de Supervisión (June 2003 - January 2007)\n",
            "\n",
            "**PROCLUB, S.A. DE C.V.**\n",
            "\n",
            "* Gerente de Construcción (October 2002 - June 2003)\n",
            "\n",
            "**DALAN CONSTRUCCIONES, S.A. DE C.V.**\n",
            "\n",
            "* Residente de Obra (December 2001 - October 2002)\n",
            "\n",
            "**SISTEMAS Y DESARRROLLOS METÁLICOS, S.A. DE C.V.**\n",
            "\n",
            "* Residente de Obra (July 2001 - December 2001)\n",
            "\n",
            "**INDUSTRIAS CEMBRA, S.A. DE C.V.**\n",
            "\n",
            "* Residente de Obra (June 2000 - April 2001)\n",
            "\n",
            "**TRAACSA (TRANSFORMADOS DEL ACERO, S.A. DE C.V.**\n",
            "\n",
            "* Departamento de Ingeniería (April 2000 - June 2000)\n",
            "\n",
            "**CAABSA, S.A. DE C.V.**\n",
            "\n",
            "* Departamento de Costos (February 2000 - April 2000)\n",
            "\n",
            "**SECRETARÍA DE TRANSPORTES Y VIALIDAD**\n",
            "\n",
            "* Departamento de Ingeniería (1998 - 2000)\n",
            "\n",
            "**ALDOIN (ALUMINO DOMOS E INSTALACIONES)**\n",
            "\n",
            "* Asesor Técnico/Supervisor de Obra (1997 - 1998)\n",
            "\n",
            "**I.C.A. INDUSTRIAL, S.A. DE CV.**\n",
            "\n",
            "* Auxiliar de Residente de Obra (1992)\n",
            "\n",
            "**EDUCATION**\n",
            "\n",
            "**ESCUELA SUPERIOR DE INGENIERÍA Y ARQUITECTURA TECAMACHALCO**\n",
            "\n",
            "* Ingeniero Arquitecto (1992-1997)\n",
            "\n",
            "**CENTRO DE ESTUDIOS CIENTÍFICOS Y TECNOLÓGICOS No. 11 \"WILFRIDO MASSIEU\"**\n",
            "\n",
            "* Técnico en Construcción (1987-1990)\n",
            "\n",
            "**CERTIFICATIONS**\n",
            "\n",
            "* Microsoft Certified Professional - AutoCAD\n",
            "* Primavera Certified Professional\n",
            "\n",
            "**LANGUAGES**\n",
            "\n",
            "* Spanish (Native)\n",
            "* English (Fluent)\n"
          ]
        }
      ]
    },
    {
      "cell_type": "code",
      "source": [
        "from pypdf import PdfReader\n",
        "pdfreader = PdfReader('/content/gdrive/MyDrive/GenAIEne2024/Reporte de Ventas Enero 2024 - Despegar.pdf')\n",
        "text = ''\n",
        "for page in pdfreader.pages:\n",
        "  text += page.extract_text()\n",
        "text"
      ],
      "metadata": {
        "colab": {
          "base_uri": "https://localhost:8080/",
          "height": 53
        },
        "id": "DbFs20QmRP_V",
        "outputId": "1d16a21b-1e11-4fa8-eb80-7a583282a203"
      },
      "execution_count": null,
      "outputs": [
        {
          "output_type": "execute_result",
          "data": {
            "text/plain": [
              "' \\n \\n \\nReporte de Ventas  Enero 2024  \\nVendedor : Amanda Rodriguez  de la Mora  \\n \\nCompañia  Monto  Fecha  \\nAzabache  $1,000,000.00  2/Enero/2024  \\nMuebles Dico  $50,000.  6/Enero/2024  \\nCarlos Hijo  $2,500,000.00  12/Enero/2024  \\nLa Residencia de Antonio  $45,000.  15/Enero/2024  \\n \\n \\n \\n'"
            ],
            "application/vnd.google.colaboratory.intrinsic+json": {
              "type": "string"
            }
          },
          "metadata": {},
          "execution_count": 59
        }
      ]
    },
    {
      "cell_type": "code",
      "source": [
        "prompt = \"\"\"\n",
        "Eres un agente de ventas que lee reportes y sumariza informacion.\n",
        "De los datos provistos, extrae el monto, la compañia cliente y la fecha de venta.\n",
        "Las ventas son presentadas de la siguiente forma:\n",
        "\n",
        "\\nCarlos Hijo  $2,500,000.00  12/Enero/2024  \\n\n",
        "\n",
        "Cada venta debe reportarse usando este formato:\n",
        "{\n",
        "  'cliente':<nombre del cliente>,\n",
        "  'monto':<monto de la venta>,\n",
        "  'fecha':<fecha de la venta>,\n",
        "  'vendedor':<nombre del vendedor>\n",
        "}\n",
        "\n",
        "Considerando estos datos: <\\nCarlos Hijo  $2,500,000.00  12/Enero/2024  \\n>, un reporte aceptable se veria asi:\n",
        "\n",
        "{\n",
        "  'cliente':<Carlos Hijo>,\n",
        "  'monto':<$2,500,000.00>,\n",
        "  'fecha':<12/Enero/2024>\n",
        "}\n",
        "\n",
        "\"\"\""
      ],
      "metadata": {
        "id": "McQDsL97MuJw"
      },
      "execution_count": null,
      "outputs": []
    },
    {
      "cell_type": "code",
      "source": [
        "resultado = chat([\n",
        "    SystemMessage(content=prompt),\n",
        "    HumanMessage(content=query)\n",
        "])"
      ],
      "metadata": {
        "id": "8C4vZaCQRN5j"
      },
      "execution_count": null,
      "outputs": []
    },
    {
      "cell_type": "code",
      "source": [
        "print(resultado.content)"
      ],
      "metadata": {
        "colab": {
          "base_uri": "https://localhost:8080/"
        },
        "id": "bckwIdZtRjIj",
        "outputId": "b85c2ac8-91bd-42f0-a7fa-48de263960e4"
      },
      "execution_count": null,
      "outputs": [
        {
          "output_type": "stream",
          "name": "stdout",
          "text": [
            " ```json\n",
            "{\n",
            "  \"cliente\": \"Carlos Hijo\",\n",
            "  \"monto\": \"$2,500,000.00\",\n",
            "  \"fecha\": \"12/Enero/2024\",\n",
            "  \"vendedor\": \"N/A\"\n",
            "}\n",
            "```\n"
          ]
        }
      ]
    },
    {
      "cell_type": "code",
      "source": [],
      "metadata": {
        "id": "dYwaNNIRRkpM"
      },
      "execution_count": null,
      "outputs": []
    }
  ]
}