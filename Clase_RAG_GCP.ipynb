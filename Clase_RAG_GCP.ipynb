{
  "nbformat": 4,
  "nbformat_minor": 0,
  "metadata": {
    "colab": {
      "provenance": [],
      "include_colab_link": true
    },
    "kernelspec": {
      "name": "python3",
      "display_name": "Python 3"
    },
    "language_info": {
      "name": "python"
    }
  },
  "cells": [
    {
      "cell_type": "markdown",
      "metadata": {
        "id": "view-in-github",
        "colab_type": "text"
      },
      "source": [
        "<a href=\"https://colab.research.google.com/github/laNaranjaja/GenAI/blob/main/Clase_RAG_GCP.ipynb\" target=\"_parent\"><img src=\"https://colab.research.google.com/assets/colab-badge.svg\" alt=\"Open In Colab\"/></a>"
      ]
    },
    {
      "cell_type": "code",
      "execution_count": null,
      "metadata": {
        "id": "m4KENNJRU0pr"
      },
      "outputs": [],
      "source": [
        "!pip install langchain --quiet\n",
        "!pip install pypdf --quiet\n",
        "!pip install faiss-cpu --quiet\n",
        "!pip install langchain-google-vertexai --quiet\n",
        "!pip install --upgrade --quiet langchain langchain-google-vertexai"
      ]
    },
    {
      "cell_type": "code",
      "source": [
        "from google.colab import drive\n",
        "drive.mount('/content/gdrive')"
      ],
      "metadata": {
        "colab": {
          "base_uri": "https://localhost:8080/"
        },
        "id": "cIKhbyrbVC2f",
        "outputId": "aa0d94ca-6a0c-42b9-b747-1120d01e152d"
      },
      "execution_count": null,
      "outputs": [
        {
          "output_type": "stream",
          "name": "stdout",
          "text": [
            "Drive already mounted at /content/gdrive; to attempt to forcibly remount, call drive.mount(\"/content/gdrive\", force_remount=True).\n"
          ]
        }
      ]
    },
    {
      "cell_type": "code",
      "source": [
        "import re\n",
        "import os\n",
        "from langchain.chat_models import ChatVertexAI\n",
        "from langchain_google_vertexai import VertexAIEmbeddings\n",
        "from langchain.chains.question_answering import load_qa_chain\n",
        "from langchain.vectorstores import FAISS\n",
        "from pypdf import PdfReader\n",
        "from langchain.text_splitter import RecursiveCharacterTextSplitter\n",
        "from langchain_community.document_loaders import PyPDFLoader"
      ],
      "metadata": {
        "id": "6JmAYWFBVdCr"
      },
      "execution_count": null,
      "outputs": []
    },
    {
      "cell_type": "code",
      "source": [
        "os.environ['GOOGLE_APPLICATION_CREDENTIALS'] = 'path a tu json'"
      ],
      "metadata": {
        "id": "LciK88aHVw5y"
      },
      "execution_count": null,
      "outputs": []
    },
    {
      "cell_type": "code",
      "source": [
        "chat = ChatVertexAI(temperature=0)"
      ],
      "metadata": {
        "colab": {
          "base_uri": "https://localhost:8080/"
        },
        "id": "f_8FmdOTWUr2",
        "outputId": "d4b5dfdc-4053-459d-a97d-fb258f41bf26"
      },
      "execution_count": null,
      "outputs": [
        {
          "output_type": "stream",
          "name": "stderr",
          "text": [
            "/usr/local/lib/python3.10/dist-packages/langchain_core/_api/deprecation.py:117: LangChainDeprecationWarning: The class `langchain_community.chat_models.vertexai.ChatVertexAI` was deprecated in langchain-community 0.0.12 and will be removed in 0.2.0. An updated version of the class exists in the langchain-google-vertexai package and should be used instead. To use it run `pip install -U langchain-google-vertexai` and import as `from langchain_google_vertexai import ChatVertexAI`.\n",
            "  warn_deprecated(\n"
          ]
        }
      ]
    },
    {
      "cell_type": "code",
      "source": [
        "pdf = \"/content/gdrive/MyDrive/GenAIEne2024/CCNA.pdf\"\n",
        "loader = PyPDFLoader(pdf)\n",
        "pages = loader.load_and_split()"
      ],
      "metadata": {
        "id": "uzMhst-NWb4T"
      },
      "execution_count": null,
      "outputs": []
    },
    {
      "cell_type": "code",
      "source": [
        "store_name = re.findall(r'([^\\/]+)\\.pdf$',pdf)[0]\n",
        "store_name"
      ],
      "metadata": {
        "colab": {
          "base_uri": "https://localhost:8080/",
          "height": 35
        },
        "id": "wNrLRTc_XSAE",
        "outputId": "319210ac-4bb7-44be-f39b-5620fbadb50b"
      },
      "execution_count": null,
      "outputs": [
        {
          "output_type": "execute_result",
          "data": {
            "text/plain": [
              "'CCNA'"
            ],
            "application/vnd.google.colaboratory.intrinsic+json": {
              "type": "string"
            }
          },
          "metadata": {},
          "execution_count": 34
        }
      ]
    },
    {
      "cell_type": "code",
      "source": [
        "embedding = VertexAIEmbeddings()\n",
        "vectorstore = FAISS.from_documents(pages, embedding=embedding)"
      ],
      "metadata": {
        "colab": {
          "base_uri": "https://localhost:8080/"
        },
        "id": "XT4JJ73xYJNh",
        "outputId": "ef43c82d-22b9-4936-d527-656e463f6cce"
      },
      "execution_count": null,
      "outputs": [
        {
          "output_type": "stream",
          "name": "stderr",
          "text": [
            "WARNING:langchain_google_vertexai.embeddings:Model_name will become a required arg for VertexAIEmbeddings starting from Feb-01-2024. Currently the default is set to textembedding-gecko@001\n"
          ]
        }
      ]
    },
    {
      "cell_type": "code",
      "source": [
        "vectorstore.save_local(f\"/content/gdrive/MyDrive/GenAIEne2024/{store_name}_vector_store\")"
      ],
      "metadata": {
        "id": "MWoXJ_h2YnVV"
      },
      "execution_count": null,
      "outputs": []
    },
    {
      "cell_type": "code",
      "source": [
        "query = 'What is this document about?'"
      ],
      "metadata": {
        "id": "WOfptRx7Yzka"
      },
      "execution_count": null,
      "outputs": []
    },
    {
      "cell_type": "code",
      "source": [
        "docs = vectorstore.similarity_search(query=query, k=10)\n",
        "chain = load_qa_chain(llm=chat, chain_type='map_reduce',verbose=True)"
      ],
      "metadata": {
        "id": "6F7KTIwyY40L"
      },
      "execution_count": null,
      "outputs": []
    },
    {
      "cell_type": "code",
      "source": [
        "chain"
      ],
      "metadata": {
        "colab": {
          "base_uri": "https://localhost:8080/"
        },
        "id": "WDIu2b4JZH-M",
        "outputId": "0b5f7fa1-e7b6-46c7-9ac6-6844083511b5"
      },
      "execution_count": null,
      "outputs": [
        {
          "output_type": "execute_result",
          "data": {
            "text/plain": [
              "MapReduceDocumentsChain(verbose=True, llm_chain=LLMChain(verbose=True, prompt=ChatPromptTemplate(input_variables=['context', 'question'], messages=[SystemMessagePromptTemplate(prompt=PromptTemplate(input_variables=['context'], template='Use the following portion of a long document to see if any of the text is relevant to answer the question. \\nReturn any relevant text verbatim.\\n______________________\\n{context}')), HumanMessagePromptTemplate(prompt=PromptTemplate(input_variables=['question'], template='{question}'))]), llm=ChatVertexAI(client=<vertexai.language_models.ChatModel object at 0x7ceed284f520>)), reduce_documents_chain=ReduceDocumentsChain(verbose=True, combine_documents_chain=StuffDocumentsChain(verbose=True, llm_chain=LLMChain(verbose=True, prompt=ChatPromptTemplate(input_variables=['question', 'summaries'], messages=[SystemMessagePromptTemplate(prompt=PromptTemplate(input_variables=['summaries'], template=\"Given the following extracted parts of a long document and a question, create a final answer. \\nIf you don't know the answer, just say that you don't know. Don't try to make up an answer.\\n______________________\\n{summaries}\")), HumanMessagePromptTemplate(prompt=PromptTemplate(input_variables=['question'], template='{question}'))]), llm=ChatVertexAI(client=<vertexai.language_models.ChatModel object at 0x7ceed284f520>)), document_variable_name='summaries')), document_variable_name='context')"
            ]
          },
          "metadata": {},
          "execution_count": 43
        }
      ]
    },
    {
      "cell_type": "code",
      "source": [
        "response = chain.run(input_documents=docs, question=query)"
      ],
      "metadata": {
        "colab": {
          "base_uri": "https://localhost:8080/"
        },
        "id": "NIggjYJkZKcg",
        "outputId": "34227d4e-6bd6-479d-8014-ba6d36d9f5cb"
      },
      "execution_count": null,
      "outputs": [
        {
          "output_type": "stream",
          "name": "stdout",
          "text": [
            "\n",
            "\n",
            "\u001b[1m> Entering new MapReduceDocumentsChain chain...\u001b[0m\n",
            "\n",
            "\n",
            "\u001b[1m> Entering new LLMChain chain...\u001b[0m\n",
            "Prompt after formatting:\n",
            "\u001b[32;1m\u001b[1;3mSystem: Use the following portion of a long document to see if any of the text is relevant to answer the question. \n",
            "Return any relevant text verbatim.\n",
            "______________________\n",
            "ptg17396363xvii\n",
            "OSPFv2 Interface Configuration 218\n",
            "OSPFv2 Interface Configuration Example 218\n",
            "Verifying OSPFv2 Interface Configuration 219\n",
            "Chapter Review 221\n",
            "Chapter 9 Understanding EIGRP Concepts 224\n",
            "“Do I Know This Already?” Quiz 224Foundation Topics 226EIGRP and Distance Vector Routing Protocols 226\n",
            "Introduction to EIGRP 226Basic Distance Vector Routing Protocol Features 227\n",
            "The Concept of a Distance and a Vector 228Full Update Messages and Split Horizon 229Route Poisoning 231\n",
            "EIGRP as an Advanced DV Protocol 232\n",
            "EIGRP Sends Partial Update Messages, As Needed 232EIGRP Maintains Neighbor Status Using Hello 233Summary of Interior Routing Protocol Features 233\n",
            "EIGRP Concepts and Operation 234\n",
            "EIGRP Neighbors 234Exchanging EIGRP Topology Information 235Calculating the Best Routes for the Routing Table 236\n",
            "The EIGRP Metric Calculation 236An Example of Calculated EIGRP Metrics 237Caveats with Bandwidth on Serial Links 238\n",
            "EIGRP Convergence 239\n",
            "Feasible Distance and Reported Distance 240EIGRP Successors and Feasible Successors 241The Query and Reply Process 242\n",
            "Chapter Review 243\n",
            "Chapter 10 Implementing EIGRP for IPv4 244\n",
            "“Do I Know This Already?” Quiz 244Foundation Topics 246Core EIGRP Configuration and Verification 246\n",
            "EIGRP Configuration 246Configuring EIGRP Using a Wildcard Mask 248\n",
            "Human: What is this document about?\u001b[0m\n",
            "Prompt after formatting:\n",
            "\u001b[32;1m\u001b[1;3mSystem: Use the following portion of a long document to see if any of the text is relevant to answer the question. \n",
            "Return any relevant text verbatim.\n",
            "______________________\n",
            "ptg1739636328Chapter 28: SDN and Network Programmability  777\n",
            "Also, before leaving these topics, let me offer a few words about learning more about \n",
            "SDN. Cisco DevNet (https://developer.cisco.com), a site    for anyone interested in network programming, has information about all the Cisco SDN solutions in this section. It also has free labs as well. You should definitely set up a free login at Cisco DevNet and check out the content there. Also, I blog about SDN from time to time at one of my blog sites   (http://www.sdnskills.com); look there for posts with recommendations about what to study to learn about SDN.\n",
            "Cisco APIC-EM Path Trace ACL Analysis Application\n",
            "This final section of the chapter was designed to discuss a single exam topic, and only that exam topic, due to some timing challenges. This short section introduces the topic, with a promise of more information to be posted as a PDF on this book’s companion website. Now that I have made you curious, this section first introduces the Path Trace app, then explains more about the ACL Analysis app and the reason why the details are in a free PDF on the website.\n",
            "APIC-EM Path Trace App\n",
            "Think of the APIC-EM controller   as a set of base features plus a series of applications or apps. The list of supported applications will grow over time. The apps run natively on the controller; that is, they do not run elsewhere in the network but are installed as part of the controller. From a user interface perspective, they appear as just another feature in the user interface, but architecturally, the apps are separate from the base controller, and may even be developed by different groups within Cisco.\n",
            "APIC-EM supports a variety of apps, and that list will almost certainly expand over time. \n",
            "Currently, when you download the APIC-EM software, the software includes all the apps built in. All the apps can run. As for licensing, some apps, called basic apps, do not require a license—they are free to use (just like APIC-EM itself). Other apps, called   solution apps, require the purchase of a license for legal use of the app.\n",
            "The APIC-EM Path Trace app      has been available since version 1.0 of APIC-EM. The idea is \n",
            "simple, but it is a very powerful and useful tool. This tool predicts what happens in the data plane of the various devices in the network. The process works something like this:\n",
            "1. Before using Path Trace, another APIC-EM app called Discovery discovers the net-\n",
            "work topology.\n",
            "2. From the Path Trace part of the GUI, the user can type in a source and destination\n",
            "address of a packet.\n",
            "3. The Path Trace app examines information pulled by APIC-EM from the devices in\n",
            "the network—the MAC tables, IP routing tables, and other forwarding details in the\n",
            "devices—to analyze where this imaginary packet would flow if sent in the networkright now.\n",
            "4. The Path Trace GUI displays the path, with notes, overlaid on a map of the network.\n",
            "You and I could do the same work, but it would be laborious. APIC-EM’s Path Trace app \n",
            "does the work with just a few clicks at the user interface.\n",
            "Human: What is this document about?\u001b[0m\n",
            "Prompt after formatting:\n",
            "\u001b[32;1m\u001b[1;3mSystem: Use the following portion of a long document to see if any of the text is relevant to answer the question. \n",
            "Return any relevant text verbatim.\n",
            "______________________\n",
            "ptg17396363836  Northbound Interface\n",
            "Northbound Interface Another term for Northbound API. See Northbound API.\n",
            "notification community An SNMP community (a value that acts as a password), defined on \n",
            "an SNMP manager, which then must be supplied by any SNMP agent that that sends the man-ager any unsolicited SNMP notifications (like SNMP Trap and Notify requests).\n",
            "NVRAM Nonvolatile RAM. A type of random-access memory (RAM) that retains its contents \n",
            "when a unit is powered off.\n",
            "O\n",
            "ODL See OpenDaylight.\n",
            "OID Object identifier. Used to uniquely describe a MIB variable in the SNMP database. This is a numeric string that identifies the variable uniquely and also describes where the variable exists in the MIB tree structure.\n",
            "on-demand self-service One of the five key attributes of a cloud computing service as \n",
            "defined by NIST, referring to the fact that the consumer of the server can request the service, with the service being created without any significant delay and without waiting on human intervention.\n",
            "one-way delay The elapsed time from sending the first bit of data at the sending device \n",
            "until the last bit of that data is received on the destination device.\n",
            "ONF See Open Networking Foundation.\n",
            "Open Networking Foundation A consortium of SDN users and vendors who work together \n",
            "to foster the adoption of open SDN in the marketplace.\n",
            "OpenDaylight An open source SDN controller, created by an open source effort of the \n",
            "OpenDaylight project under the Linux foundation, built with the intent to have a common SDN controller code base from which vendors could then take the code and add further fea-tures and support to create SDN controller products.\n",
            "OpenFlow The open standard for Software Defined Networking (SDN) as defined by the \n",
            "Open Networking Foundation (ONF), which defines the OpenFlow protocol as well as the concept of an abstracted OpenFlow virtual switch.\n",
            "OpFlex The southbound protocol used by the Cisco ACI controller and the switches it con-\n",
            "trols.\n",
            "OSPF Open Shortest Path First. A popular link-state IGP that uses a link-state database and \n",
            "the Shortest Path First (SPF) algorithm to calculate the best routes to reach each known subnet.\n",
            "OSPF super backbone Jargon used to refer to how when an MPLS VPN customer uses \n",
            "OSPF, that the MPLS VPN service acts as if it were part of OSPF backbone area 0, with that part of area 0 being called the super backbone. \n",
            "OSPF version 2 The version of the OSPF routing protocol that supports IPv4, and not IPv6, \n",
            "and has been commonly used for over 20 years.\n",
            "OSPF version 3 The version of the OSPF routing protocol that originally supported only \n",
            "IPv6, and not IPv4, but now supports IPv4 through the use of address family configuration.\n",
            "Human: What is this document about?\u001b[0m\n",
            "Prompt after formatting:\n",
            "\u001b[32;1m\u001b[1;3mSystem: Use the following portion of a long document to see if any of the text is relevant to answer the question. \n",
            "Return any relevant text verbatim.\n",
            "______________________\n",
            "ptg17396363\n",
            " CHAPTER 6\n",
            "Miscellaneous LAN Topics\n",
            "This chapter covers the following exam topics:\n",
            "1.0 LAN Switching Technologies\n",
            "1.6 Describe the benefits of switch stacking and chassis aggregation\n",
            "1.7 Describe common access layer threat mitigation techniques\n",
            "1.7.a 802.1x1.7.b DHCP snooping\n",
            "5.0 Infrastructure Maintenance\n",
            "5.4 Describe device management using AAA with TACACS+ and RADIUS\n",
            "Between this book and the ICND1 100-105 Cert Guide, 14 chapters have been devoted to \n",
            "topics specific to LANs. This chapter is the last of those chapters. This chapter completes the LAN-specific discussion with a few small topics that just do not fit neatly in the other chapters.\n",
            "The chapter begins with three security topics. The first section addresses IEEE 802.1x, \n",
            "which defines a mechanism to secure user access to a LAN by requiring the user to supply a username and password before a switch allows the device’s sent frames into the LAN. This tool helps secure the network against attackers gaining access to the network. The second section, “AAA Authentication,” discusses network device security, protecting router and switch CLI access by requiring username/password login with an external authentication server. The third section, “DHCP Snooping,” explores how switches can prevent security attacks that take advantage of DHCP messages and functions. By watching DHCP messages, noticing when they are used in abnormal ways not normally done with DHCP, DHCP can prevent attacks by simply filtering certain DHCP messages.\n",
            "The final of the four major sections in this chapter looks at two similar design tools that \n",
            "make multiple switches act like one switch: switch stacking and chassis aggregation. Switch stacking allows a set of similar switches that sit near to each other (in the same wiring closet, typically in the same part of the same rack) to be cabled together and then act like a single switch. Using a switch stack greatly reduces the amount of work to manage the switch, and it reduces the overhead of control and management protocols used in the network. Switch chassis aggregation has many of the same benefits, but is supported more often as a dis-tribution or core switch feature, with switch stacking as a more typical access layer switch feature.\n",
            "All four sections of this chapter have a matching exam topic that uses the verb “describe,” \n",
            "so this chapter touches on the basic descriptions of a tool, rather than deep configuration. A few of the topics will show some configuration as a means to describe the topic, but the chapter is meant to help you come away with an understanding of the fundamentals, rather than an ability to configure the features.\n",
            "Human: What is this document about?\u001b[0m\n",
            "Prompt after formatting:\n",
            "\u001b[32;1m\u001b[1;3mSystem: Use the following portion of a long document to see if any of the text is relevant to answer the question. \n",
            "Return any relevant text verbatim.\n",
            "______________________\n",
            "ptg17396363\n",
            "CHAPTER 7\n",
            "Understanding OSPF Concepts\n",
            "This chapter covers the following exam topics:\n",
            "2.0 Routing Technologies\n",
            "2.2 Compare and contrast distance vector and link-state routing protocols\n",
            "2.3 Compare and contrast interior and exterior routing protocols2.4 Configure, verify, and troubleshoot single area and multiarea OSPFv2 for IPv4 (exclud-\n",
            "ing authentication, filtering, manual summarization, redistribution, stub, virtual-link, and LSAs)\n",
            "This chapter begins a series of four chapters with a similar flow. Open Shortest Path First \n",
            "(OSPF) and    Enhanced Interior Gateway Protocol (EIGRP) are the two most popular IPv4 routing protocols used inside enterprises today. This chapter introduces OSPF concepts, followed by a chapter that gets into details about OSPF implementation. Chapters 9 and 10 do the same for EIGRP.\n",
            "In particular, this chapter takes a long look at    OSPF Version 2 (OSPFv2) concepts. OSPFv2 \n",
            "has been around over 20 years and is the most commonly used OSPF version for advertising IPv4 routes. It is the OSPF that has been part of CCNA R&S throughout most of the his-tory of CCNA R&S. \n",
            "This chapter has three major sections. The first section sets a bit of context about rout-\n",
            "ing protocols in general, defining interior and exterior routing protocols and basic routing protocol features and terms. This information is duplicated somewhat in the ICND1 Cert Guide, but the exam topics of both the ICND1 and ICND2 Cert Guides include these top-ics, so the topics are covered here as well. The second major section presents the nuts and bolts of how OSPFv2 works, using OSPF neighbor relationships, database exchange, and then route calculation. The third section wraps up the discussion by looking at some OSPF design issues.\n",
            "“Do I Know This Already?” Quiz\n",
            "Take the quiz (either here, or use the PCPT software) if you want to use the score to help you decide how much time to spend on this chapter. The answers are at the bottom of the page following the quiz, and the explanations are in DVD Appendix C and in the PCPT software.\n",
            "Table 7-1 “Do I Know This Already?” Foundation T opics Section-to-Question Mapping\n",
            "Foundation Topics Section Questions\n",
            "Comparing Dynamic Routing Protocol Features 1–3\n",
            "OSPF Concepts and Operation 4, 5\n",
            "OSPF Area Design 6\n",
            "Human: What is this document about?\u001b[0m\n",
            "Prompt after formatting:\n",
            "\u001b[32;1m\u001b[1;3mSystem: Use the following portion of a long document to see if any of the text is relevant to answer the question. \n",
            "Return any relevant text verbatim.\n",
            "______________________\n",
            "ptg17396363\n",
            " APPENDIX L\n",
            "Exam Topic Cross Reference\n",
            "This appendix lists the exam topics associated with the ICND2 200-105 exam and the \n",
            "CCNA 200-125 exam. Cisco lists the exam topics at Cisco.com. Even though changes to the exam topics are rare, you should always review those exam topics for any updates; check \n",
            "http://www.cisco.com/go/certifications, and navigate to the correct exam. \n",
            "Cisco organizes each list of exam topics by domains, which are major topic areas. Cisco \n",
            "states the percentage of the exam that should come from each domain, so you get some \n",
            "idea of the areas of importance. Traditionally, the score report you receive after taking the \n",
            "exam shows your percentage score in each domain.\n",
            "This appendix includes three separate types of cross references to exam topics:\n",
            "■ICND2 200-105 Exam Topics in Numeric Order: This section lists the ICND2 200-105\n",
            "exam topics in the same order in which they are listed by Cisco on its website, and iden-\n",
            "tifies the corresponding book chapter(s) in which each exam topic is covered. Essentially,\n",
            "this section provides a cross reference for each exam topic to the chapter or chapters\n",
            "that include at least some material about that exam topic.\n",
            "■Mapping of Book Chapters to ICND2 200-105 Exam Topics: This section lists thesame ICND2 200-105 exam topics but indexed by chapter instead of exam topic. This\n",
            "section serves as a cross reference between the chapters in this book and the exam topics\n",
            "that each chapter covers. This section basically relists the lists of exam topics found on\n",
            "the first page of each chapter, just in condensed form in one place for easy reference and\n",
            "tracking.\n",
            "■CCNA 200-125 Exam Topic Order: The final section of the appendix lists the CCNA\n",
            "200-125 exam domains and topics. It serves as a cross reference by highlighting the\n",
            "CCNA 200-125 exam topics that overlap with the ICND2 200-105 exam topics.\n",
            "ICND2 200-105 Exam Topics in Numeric Order\n",
            "The ICND2 200-105 exam includes five major topic areas (domains), each with a percentage \n",
            "listed. Table L-1 lists the domains and their percentages.  \n",
            "Table L-1 ICND2 200- 105 Exam T opic Domains\n",
            "Domain Percentage\n",
            "Domain 1: LAN Switching Technologies 26%\n",
            "Domain 2: Routing Technologies 29%\n",
            "Domain 3: W AN Technologies 16%\n",
            "Domain 4: Infrastructure Services 14%\n",
            "Domain 5: Infrastructure Maintenance 15%\n",
            "Human: What is this document about?\u001b[0m\n",
            "Prompt after formatting:\n",
            "\u001b[32;1m\u001b[1;3mSystem: Use the following portion of a long document to see if any of the text is relevant to answer the question. \n",
            "Return any relevant text verbatim.\n",
            "______________________\n",
            "ptg17396363\n",
            "CHAPTER 26\n",
            "Network Management\n",
            "This chapter covers the following exam topics:\n",
            "5.0 Infrastructure Maintenance\n",
            "5.1 Configure and verify device-monitoring protocols\n",
            "5.1.a SNMPv2\n",
            "5.1.b SNMPv3\n",
            "5.2 Troubleshoot network connectivity issues using ICMP echo-based IP SLA5.3 Use local SPAN to troubleshoot and resolve problems\n",
            "This chapter discusses three major topics that are related by their theme. However, they \n",
            "have no direct impact on each other. From a study perspective, you can treat each of the major headings as a separate study task. In fact, because this chapter is rather long compared to other chapters, I would suggest breaking down the topics in this chapter by major head-ing, just so the new terminology does not get in the way.\n",
            "This chapter begins with a detailed discussion of   Simple Network Management Protocol \n",
            "(SNMP). The discussion begins with the core concepts, and moves on to configuration for two versions: SNMPv2c and SNMPv3. These versions differ significantly with their security features, so much of the configuration discussion revolves around sorting out those details.\n",
            "The second section moves to a router-specific feature called IP Service Level Agreement (IP \n",
            "SLA). This tool lets network engineers configure routers so that the routers generate artifi-cial probe traffic to send into the network. By sending the messages and receiving respons-es, the routers can measure availability and performance.\n",
            "The final section then discusses a switch-specific feature: Switched Port Analyzer, or SPAN. \n",
            "This tool allows the network engineer to make the switch copy frames to a destination port. This feature is useful to direct frames to different kinds of networking tools, like network analyzer software.\n",
            "“Do I Know This Already?” Quiz\n",
            "Take the quiz (either here, or use the PCPT software) if you want to use the score to help you decide how much time to spend on this chapter. The answers are at the bottom of the page fol-lowing the quiz, and the explanations are in DVD Appendix C and in the PCPT software.\n",
            "Table 26-1 “Do I Know This Already?” Foundation T opics Section-to-Question Mapping\n",
            "Foundation Topics Section Questions\n",
            "Simple Network Management Protocol 1–4\n",
            "IP Service Level Agreement 5–6\n",
            "SPAN 7–8\n",
            "Human: What is this document about?\u001b[0m\n",
            "Prompt after formatting:\n",
            "\u001b[32;1m\u001b[1;3mSystem: Use the following portion of a long document to see if any of the text is relevant to answer the question. \n",
            "Return any relevant text verbatim.\n",
            "______________________\n",
            "ptg1739636326Chapter 26: Network Management  727\n",
            "Key Terms You Should Know\n",
            "Simple Network Management Protocol, SNMP community, read-only community, read-\n",
            "write community, notification community, SNMP Get, SNMP Set, SNMP Trap, SNMP Inform, Management Information Base (MIB), SNMPv2c, SNMPv3, Network Management System (NMS), SNMP manager, SNMP agent, MIB view, service level agreement (SLA), IP Service Level Agreement (IP SLA), IP SLA operation, ICMP-Echo operation, IP SLA source, IP SLA responder, Round Trip Time (RTT), Switched Port Analyzer (SPAN), SPAN source port, SPAN source VLAN, SPAN destination port, network analyzer, Local SPAN, SPAN monitor session (SPAN session) \n",
            "Command References\n",
            "Tables 26-5 and 26-6 list configuration and verification commands used in this chapter. As an easy review exercise, cover the left column in a table, read the right column, and try to recall the command without looking. Then repeat the exercise, covering the right column, and try to recall what the command does. \n",
            "Table 26-5 Chapter 26 Configuration Command Reference\n",
            "Command Description\n",
            "SNMP Configuration Commands\n",
            "snmp-server community \n",
            "communitystring RO [ipv6 \n",
            "acl-name] [acl-name]Configures an SNMPv1 or SNMPv2c community string that allows reads (Get and related messages), and also enables the SNMP agent if not yet enabled by another snmp-server command. Optionally enables ACL filtering of the incoming SNMP messages that use this community string.  \n",
            "snmp-server community communitystring RW [ipv6 \n",
            "acl-name] [acl-name]Configures an SNMPv1 or SNMPv2c community string that allows both write and read (Get and Set messages), and also enables the SNMP agent if not yet enabled by another snmp-server command. Optionally enables ACL \n",
            "filtering of the incoming SNMP messages that use this community string.\n",
            "snmp-server location text-\n",
            "describing-locationDefines the text setting of an SNMP variable meant to identify the location of the device.  \n",
            "snmp-server contact contact-nameDefines the text setting of an SNMP variable meant to identify the person to contact for questions about the device.  \n",
            "snmp-server host hostname | ip-address version 2c \n",
            "community-stringIdentifies one SNMP manager (NMS) to which to send SNMPv2 Trap messages, using the listed notification community. \n",
            "snmp-server host hostname | \n",
            "ip-address informs version 2c \n",
            "community-stringIdentifies one SNMP manager (NMS) to which to send SNMPv2 Inform messages, using the listed notification community.  \n",
            "snmp-server enable traps Enables the SNMP agent to send all supported Traps/Inform messages to any NMS hosts defined with the snmp-server host command.\n",
            "Human: What is this document about?\u001b[0m\n",
            "Prompt after formatting:\n",
            "\u001b[32;1m\u001b[1;3mSystem: Use the following portion of a long document to see if any of the text is relevant to answer the question. \n",
            "Return any relevant text verbatim.\n",
            "______________________\n",
            "ptg17396363Table 18-1 “Do I Know This Already?” Foundation T opics Section-to-Question Mapping\n",
            "Foundation Topics Section Questions\n",
            "Introduction to QoS 1\n",
            "Classification and Marking 2, 3\n",
            "Congestion Management (Queuing) 4\n",
            "Shaping and Policing 5\n",
            "Congestion Avoidance 6\n",
            "1. Which of the following attributes do QoS tools manage? (Choose three answers.)\n",
            "a. Bandwidth\n",
            "b. Delay\n",
            "c. Load\n",
            "d. MTU\n",
            "e. Loss\n",
            "2. Which of the following QoS marking fields could remain with a packet while being\n",
            "sent through four different routers, over different LAN and WAN links? (Choose\n",
            "two answers.)\n",
            "a. CoS\n",
            "b. IPP\n",
            "c. DSCP\n",
            "d. MPLS EXP\n",
            "3. Which of the following are available methods of classifying packets in DiffServ on\n",
            "Cisco routers? (Choose three answers.)\n",
            "a. Matching the IP DSCP field\n",
            "b. Matching the 802.1p CoS field\n",
            "c. Matching fields with an extended IP ACL\n",
            "d. Matching the SNMP Location variable\n",
            "4. Which of the following behaviors is applied to a low latency queue in a Cisco router\n",
            "or switch?a. Congestion management\n",
            "b. Shaping\n",
            "c. Policing\n",
            "d. Priority scheduling\n",
            "e. Round robin scheduling\n",
            "Human: What is this document about?\u001b[0m\n",
            "Prompt after formatting:\n",
            "\u001b[32;1m\u001b[1;3mSystem: Use the following portion of a long document to see if any of the text is relevant to answer the question. \n",
            "Return any relevant text verbatim.\n",
            "______________________\n",
            "ptg1739636312  CCNA Routing and Switching ICND2 200-105 Official Cert Guide\n",
            "(OSPFv2) Link-State Advertisements\n",
            "Many people tend to get a little intimidated by OSPF LSAs when first learning about them. \n",
            "The output of the show ip ospf database  command—a command that lists a summary of \n",
            "the output—is pretty long. Commands that look at specific LSAs list a lot more informa-tion. The details appear to be in some kind of code, using lots of numbers. It can seem like a \n",
            "bit of a mess.\n",
            "However, if you examine LSAs while thinking about OSPF areas, and area design, some of \n",
            "the most common LSA types will make a lot more sense. For instance, think about the LSDB \n",
            "in one area. The topology details includes routers and the links between the routers. As it \n",
            "turns out, OSPF defines the first two types of LSAs to define those exact details, as follows:\n",
            "■One router LSA for each router in the area\n",
            "■One network LSA for each network that has a DR plus one neighbor of the DR\n",
            "Next, think about the subnets in the other areas. The ABR creates summary information about each subnet in other areas—basically just the subnet IDs and masks—as a third type \n",
            "of LSA:\n",
            "■One summary LSA for each subnet ID that exists in a different area\n",
            "The next few pages discuss these three LSA types in a little more detail; Table K-3 lists some \n",
            "information about all three for easier reference and study.\n",
            "Table K-3 The Three OSPFv2 LSA Types Seen with a Multiarea OSPF Design\n",
            "Name Number Primary Purpose Contents of LSA\n",
            "Router LSA 1 Describe a router RID, interfaces, IP address/mask, \n",
            "current interface state (status)\n",
            "Network 2 Describe a network that has a \n",
            "DRDR and BDR IP addresses, subnet \n",
            "ID, mask\n",
            "Summary 3 Describe a subnet in another \n",
            "areaSubnet ID, mask, RID of ABR \n",
            "that advertises the LSA\n",
            "NOTE In some networks, both OSPF and other routing protocols are used. In that case, \n",
            "one or more routers run both OSPF and the other routing protocol, with those routers \n",
            "acting as an OSPF Autonomous System Border Router, or ASBR, redistributing routing \n",
            "information between OSPF and the other protocol. In such a case, the ASBR creates a Type \n",
            "4 LSA, which describes the ASBR itself, and Type 5 LSAs for each external route learned from the other routing protocol and then advertised into OSPF.\n",
            "Router LSAs Build Most of the Intra-Area Topology\n",
            "OSPF needs very detailed topology information inside each area. The routers inside area X \n",
            "need to know all the details about the topology inside area X. And the mechanism to give routers all these details is for the routers to create and flood router (Type 1) and network (Type 2) LSAs about the routers and links in the area.\n",
            "Human: What is this document about?\u001b[0m\n",
            "\n",
            "\u001b[1m> Finished chain.\u001b[0m\n",
            "\n",
            "\n",
            "\u001b[1m> Entering new LLMChain chain...\u001b[0m\n",
            "Prompt after formatting:\n",
            "\u001b[32;1m\u001b[1;3mSystem: Given the following extracted parts of a long document and a question, create a final answer. \n",
            "If you don't know the answer, just say that you don't know. Don't try to make up an answer.\n",
            "______________________\n",
            " This document appears to be a technical manual or guide related to networking and routing protocols, specifically focusing on OSPFv2 and EIGRP (Enhanced Interior Gateway Routing Protocol). It covers various aspects of OSPFv2 interface configuration, verification, and EIGRP concepts and operations. Topics include distance vector routing protocols, EIGRP as an advanced DV protocol, EIGRP neighbors, exchanging topology information, calculating best routes, EIGRP metrics, convergence, feasible distance, successors, and the query and reply process.\n",
            "\n",
            " This document is about SDN (Software-Defined Networking) and network programmability. It introduces the concept of SDN and provides information about Cisco DevNet, a site for anyone interested in network programming. It also discusses the APIC-EM Path Trace app, which predicts what happens in the data plane of the various devices in the network.\n",
            "\n",
            " This document appears to be a glossary of terms related to networking and computing. It provides definitions and explanations for various acronyms, protocols, and concepts used in these fields.\n",
            "\n",
            " This document is about various LAN topics, including LAN switching technologies, access layer threat mitigation techniques, device management using AAA with TACACS+ and RADIUS, and switch stacking and chassis aggregation.\n",
            "\n",
            " This document is about OSPF (Open Shortest Path First) and Enhanced Interior Gateway Protocol (EIGRP), the two most popular IPv4 routing protocols used inside enterprises today. It introduces OSPF concepts, followed by a chapter that gets into details about OSPF implementation. Chapters 9 and 10 do the same for EIGRP.\n",
            "\n",
            " This document is an appendix that provides cross-references to exam topics for the ICND2 200-105 and CCNA 200-125 exams. It includes three sections: ICND2 200-105 Exam Topics in Numeric Order, Mapping of Book Chapters to ICND2 200-105 Exam Topics, and CCNA 200-125 Exam Topic Order.\n",
            "\n",
            " This document is about network management. It covers topics such as Simple Network Management Protocol (SNMP), IP Service Level Agreement (IP SLA), and Switched Port Analyzer (SPAN).\n",
            "\n",
            " This document appears to be a chapter from a technical manual or guide, specifically Chapter 26 titled \"Network Management.\" It introduces key terms and concepts related to network management, including protocols, commands, and network management systems. The chapter focuses on Simple Network Management Protocol (SNMP) and its various components, such as community strings, SNMP Get and Set operations, Traps and Informs, Management Information Base (MIB), and SNMP versions. It also covers configuration commands for SNMP, including setting up community strings, defining device location and contact information, and specifying SNMP manager hosts for Trap and Inform messages.\n",
            "\n",
            " This document appears to be about Quality of Service (QoS) and how to manage it. It includes topics such as classification and marking, congestion management, shaping and policing, and congestion avoidance.\n",
            "\n",
            " This document is about OSPFv2 (Open Shortest Path First version 2), a routing protocol used in computer networks. It provides detailed information about OSPF LSAs (Link-State Advertisements), which are used to build and maintain the topology of an OSPF network. The document explains the different types of LSAs, including router LSAs, network LSAs, and summary LSAs, and their roles in OSPF area design and intra-area topology construction.\n",
            "Human: What is this document about?\u001b[0m\n",
            "\n",
            "\u001b[1m> Finished chain.\u001b[0m\n",
            "\n",
            "\u001b[1m> Finished chain.\u001b[0m\n"
          ]
        }
      ]
    },
    {
      "cell_type": "code",
      "source": [
        "print(response)"
      ],
      "metadata": {
        "colab": {
          "base_uri": "https://localhost:8080/"
        },
        "id": "qpqm5NgNZQqa",
        "outputId": "fcd8dab1-f7fc-401a-8c34-1696677729ed"
      },
      "execution_count": null,
      "outputs": [
        {
          "output_type": "stream",
          "name": "stdout",
          "text": [
            " This document appears to be a collection of technical manuals or guides related to networking and routing protocols, network programmability, networking and computing terminology, LAN topics, and OSPF and EIGRP routing protocols.\n"
          ]
        }
      ]
    },
    {
      "cell_type": "code",
      "source": [],
      "metadata": {
        "id": "Nfny-p06honP"
      },
      "execution_count": null,
      "outputs": []
    }
  ]
}