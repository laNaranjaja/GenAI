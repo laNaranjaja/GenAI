{
  "nbformat": 4,
  "nbformat_minor": 0,
  "metadata": {
    "colab": {
      "provenance": [],
      "include_colab_link": true
    },
    "kernelspec": {
      "name": "python3",
      "display_name": "Python 3"
    },
    "language_info": {
      "name": "python"
    }
  },
  "cells": [
    {
      "cell_type": "markdown",
      "metadata": {
        "id": "view-in-github",
        "colab_type": "text"
      },
      "source": [
        "<a href=\"https://colab.research.google.com/github/laNaranjaja/GenAI/blob/main/GenAI_Replicate_Demo.ipynb\" target=\"_parent\"><img src=\"https://colab.research.google.com/assets/colab-badge.svg\" alt=\"Open In Colab\"/></a>"
      ]
    },
    {
      "cell_type": "code",
      "execution_count": null,
      "metadata": {
        "colab": {
          "base_uri": "https://localhost:8080/"
        },
        "id": "0UiHsgpkWMnl",
        "outputId": "a01c4434-bf8d-46fd-e134-851067e288c5"
      },
      "outputs": [
        {
          "output_type": "stream",
          "name": "stdout",
          "text": [
            "Collecting langchain\n",
            "  Downloading langchain-0.1.5-py3-none-any.whl (806 kB)\n",
            "\u001b[?25l     \u001b[90m━━━━━━━━━━━━━━━━━━━━━━━━━━━━━━━━━━━━━━━━\u001b[0m \u001b[32m0.0/806.7 kB\u001b[0m \u001b[31m?\u001b[0m eta \u001b[36m-:--:--\u001b[0m\r\u001b[2K     \u001b[91m━━━━━━━━━\u001b[0m\u001b[91m╸\u001b[0m\u001b[90m━━━━━━━━━━━━━━━━━━━━━━━━━━━━━━\u001b[0m \u001b[32m194.6/806.7 kB\u001b[0m \u001b[31m5.9 MB/s\u001b[0m eta \u001b[36m0:00:01\u001b[0m\r\u001b[2K     \u001b[91m━━━━━━━━━━━━━━━━━━━━━━━━━━━━━━━━━━━━━━━\u001b[0m\u001b[91m╸\u001b[0m \u001b[32m798.7/806.7 kB\u001b[0m \u001b[31m14.9 MB/s\u001b[0m eta \u001b[36m0:00:01\u001b[0m\r\u001b[2K     \u001b[90m━━━━━━━━━━━━━━━━━━━━━━━━━━━━━━━━━━━━━━━━\u001b[0m \u001b[32m806.7/806.7 kB\u001b[0m \u001b[31m10.5 MB/s\u001b[0m eta \u001b[36m0:00:00\u001b[0m\n",
            "\u001b[?25hRequirement already satisfied: PyYAML>=5.3 in /usr/local/lib/python3.10/dist-packages (from langchain) (6.0.1)\n",
            "Requirement already satisfied: SQLAlchemy<3,>=1.4 in /usr/local/lib/python3.10/dist-packages (from langchain) (2.0.24)\n",
            "Requirement already satisfied: aiohttp<4.0.0,>=3.8.3 in /usr/local/lib/python3.10/dist-packages (from langchain) (3.9.3)\n",
            "Requirement already satisfied: async-timeout<5.0.0,>=4.0.0 in /usr/local/lib/python3.10/dist-packages (from langchain) (4.0.3)\n",
            "Collecting dataclasses-json<0.7,>=0.5.7 (from langchain)\n",
            "  Downloading dataclasses_json-0.6.4-py3-none-any.whl (28 kB)\n",
            "Collecting jsonpatch<2.0,>=1.33 (from langchain)\n",
            "  Downloading jsonpatch-1.33-py2.py3-none-any.whl (12 kB)\n",
            "Collecting langchain-community<0.1,>=0.0.17 (from langchain)\n",
            "  Downloading langchain_community-0.0.17-py3-none-any.whl (1.6 MB)\n",
            "\u001b[2K     \u001b[90m━━━━━━━━━━━━━━━━━━━━━━━━━━━━━━━━━━━━━━━━\u001b[0m \u001b[32m1.6/1.6 MB\u001b[0m \u001b[31m50.8 MB/s\u001b[0m eta \u001b[36m0:00:00\u001b[0m\n",
            "\u001b[?25hCollecting langchain-core<0.2,>=0.1.16 (from langchain)\n",
            "  Downloading langchain_core-0.1.18-py3-none-any.whl (237 kB)\n",
            "\u001b[2K     \u001b[90m━━━━━━━━━━━━━━━━━━━━━━━━━━━━━━━━━━━━━━━━\u001b[0m \u001b[32m237.0/237.0 kB\u001b[0m \u001b[31m20.3 MB/s\u001b[0m eta \u001b[36m0:00:00\u001b[0m\n",
            "\u001b[?25hCollecting langsmith<0.1,>=0.0.83 (from langchain)\n",
            "  Downloading langsmith-0.0.86-py3-none-any.whl (54 kB)\n",
            "\u001b[2K     \u001b[90m━━━━━━━━━━━━━━━━━━━━━━━━━━━━━━━━━━━━━━━━\u001b[0m \u001b[32m54.4/54.4 kB\u001b[0m \u001b[31m5.4 MB/s\u001b[0m eta \u001b[36m0:00:00\u001b[0m\n",
            "\u001b[?25hRequirement already satisfied: numpy<2,>=1 in /usr/local/lib/python3.10/dist-packages (from langchain) (1.23.5)\n",
            "Requirement already satisfied: pydantic<3,>=1 in /usr/local/lib/python3.10/dist-packages (from langchain) (1.10.14)\n",
            "Requirement already satisfied: requests<3,>=2 in /usr/local/lib/python3.10/dist-packages (from langchain) (2.31.0)\n",
            "Requirement already satisfied: tenacity<9.0.0,>=8.1.0 in /usr/local/lib/python3.10/dist-packages (from langchain) (8.2.3)\n",
            "Requirement already satisfied: aiosignal>=1.1.2 in /usr/local/lib/python3.10/dist-packages (from aiohttp<4.0.0,>=3.8.3->langchain) (1.3.1)\n",
            "Requirement already satisfied: attrs>=17.3.0 in /usr/local/lib/python3.10/dist-packages (from aiohttp<4.0.0,>=3.8.3->langchain) (23.2.0)\n",
            "Requirement already satisfied: frozenlist>=1.1.1 in /usr/local/lib/python3.10/dist-packages (from aiohttp<4.0.0,>=3.8.3->langchain) (1.4.1)\n",
            "Requirement already satisfied: multidict<7.0,>=4.5 in /usr/local/lib/python3.10/dist-packages (from aiohttp<4.0.0,>=3.8.3->langchain) (6.0.4)\n",
            "Requirement already satisfied: yarl<2.0,>=1.0 in /usr/local/lib/python3.10/dist-packages (from aiohttp<4.0.0,>=3.8.3->langchain) (1.9.4)\n",
            "Collecting marshmallow<4.0.0,>=3.18.0 (from dataclasses-json<0.7,>=0.5.7->langchain)\n",
            "  Downloading marshmallow-3.20.2-py3-none-any.whl (49 kB)\n",
            "\u001b[2K     \u001b[90m━━━━━━━━━━━━━━━━━━━━━━━━━━━━━━━━━━━━━━━━\u001b[0m \u001b[32m49.4/49.4 kB\u001b[0m \u001b[31m5.0 MB/s\u001b[0m eta \u001b[36m0:00:00\u001b[0m\n",
            "\u001b[?25hCollecting typing-inspect<1,>=0.4.0 (from dataclasses-json<0.7,>=0.5.7->langchain)\n",
            "  Downloading typing_inspect-0.9.0-py3-none-any.whl (8.8 kB)\n",
            "Collecting jsonpointer>=1.9 (from jsonpatch<2.0,>=1.33->langchain)\n",
            "  Downloading jsonpointer-2.4-py2.py3-none-any.whl (7.8 kB)\n",
            "Requirement already satisfied: anyio<5,>=3 in /usr/local/lib/python3.10/dist-packages (from langchain-core<0.2,>=0.1.16->langchain) (3.7.1)\n",
            "Requirement already satisfied: packaging<24.0,>=23.2 in /usr/local/lib/python3.10/dist-packages (from langchain-core<0.2,>=0.1.16->langchain) (23.2)\n",
            "Requirement already satisfied: typing-extensions>=4.2.0 in /usr/local/lib/python3.10/dist-packages (from pydantic<3,>=1->langchain) (4.5.0)\n",
            "Requirement already satisfied: charset-normalizer<4,>=2 in /usr/local/lib/python3.10/dist-packages (from requests<3,>=2->langchain) (3.3.2)\n",
            "Requirement already satisfied: idna<4,>=2.5 in /usr/local/lib/python3.10/dist-packages (from requests<3,>=2->langchain) (3.6)\n",
            "Requirement already satisfied: urllib3<3,>=1.21.1 in /usr/local/lib/python3.10/dist-packages (from requests<3,>=2->langchain) (2.0.7)\n",
            "Requirement already satisfied: certifi>=2017.4.17 in /usr/local/lib/python3.10/dist-packages (from requests<3,>=2->langchain) (2023.11.17)\n",
            "Requirement already satisfied: greenlet!=0.4.17 in /usr/local/lib/python3.10/dist-packages (from SQLAlchemy<3,>=1.4->langchain) (3.0.3)\n",
            "Requirement already satisfied: sniffio>=1.1 in /usr/local/lib/python3.10/dist-packages (from anyio<5,>=3->langchain-core<0.2,>=0.1.16->langchain) (1.3.0)\n",
            "Requirement already satisfied: exceptiongroup in /usr/local/lib/python3.10/dist-packages (from anyio<5,>=3->langchain-core<0.2,>=0.1.16->langchain) (1.2.0)\n",
            "Collecting mypy-extensions>=0.3.0 (from typing-inspect<1,>=0.4.0->dataclasses-json<0.7,>=0.5.7->langchain)\n",
            "  Downloading mypy_extensions-1.0.0-py3-none-any.whl (4.7 kB)\n",
            "Installing collected packages: mypy-extensions, marshmallow, jsonpointer, typing-inspect, langsmith, jsonpatch, langchain-core, dataclasses-json, langchain-community, langchain\n",
            "Successfully installed dataclasses-json-0.6.4 jsonpatch-1.33 jsonpointer-2.4 langchain-0.1.5 langchain-community-0.0.17 langchain-core-0.1.18 langsmith-0.0.86 marshmallow-3.20.2 mypy-extensions-1.0.0 typing-inspect-0.9.0\n",
            "Collecting pypdf\n",
            "  Downloading pypdf-4.0.1-py3-none-any.whl (283 kB)\n",
            "\u001b[2K     \u001b[90m━━━━━━━━━━━━━━━━━━━━━━━━━━━━━━━━━━━━━━━━\u001b[0m \u001b[32m284.0/284.0 kB\u001b[0m \u001b[31m4.3 MB/s\u001b[0m eta \u001b[36m0:00:00\u001b[0m\n",
            "\u001b[?25hInstalling collected packages: pypdf\n",
            "Successfully installed pypdf-4.0.1\n",
            "Collecting replicate\n",
            "  Downloading replicate-0.23.1-py3-none-any.whl (36 kB)\n",
            "Collecting httpx<1,>=0.21.0 (from replicate)\n",
            "  Downloading httpx-0.26.0-py3-none-any.whl (75 kB)\n",
            "\u001b[2K     \u001b[90m━━━━━━━━━━━━━━━━━━━━━━━━━━━━━━━━━━━━━━━━\u001b[0m \u001b[32m75.9/75.9 kB\u001b[0m \u001b[31m5.1 MB/s\u001b[0m eta \u001b[36m0:00:00\u001b[0m\n",
            "\u001b[?25hRequirement already satisfied: packaging in /usr/local/lib/python3.10/dist-packages (from replicate) (23.2)\n",
            "Requirement already satisfied: pydantic>1 in /usr/local/lib/python3.10/dist-packages (from replicate) (1.10.14)\n",
            "Requirement already satisfied: typing-extensions>=4.5.0 in /usr/local/lib/python3.10/dist-packages (from replicate) (4.5.0)\n",
            "Requirement already satisfied: anyio in /usr/local/lib/python3.10/dist-packages (from httpx<1,>=0.21.0->replicate) (3.7.1)\n",
            "Requirement already satisfied: certifi in /usr/local/lib/python3.10/dist-packages (from httpx<1,>=0.21.0->replicate) (2023.11.17)\n",
            "Collecting httpcore==1.* (from httpx<1,>=0.21.0->replicate)\n",
            "  Downloading httpcore-1.0.2-py3-none-any.whl (76 kB)\n",
            "\u001b[2K     \u001b[90m━━━━━━━━━━━━━━━━━━━━━━━━━━━━━━━━━━━━━━━━\u001b[0m \u001b[32m76.9/76.9 kB\u001b[0m \u001b[31m8.3 MB/s\u001b[0m eta \u001b[36m0:00:00\u001b[0m\n",
            "\u001b[?25hRequirement already satisfied: idna in /usr/local/lib/python3.10/dist-packages (from httpx<1,>=0.21.0->replicate) (3.6)\n",
            "Requirement already satisfied: sniffio in /usr/local/lib/python3.10/dist-packages (from httpx<1,>=0.21.0->replicate) (1.3.0)\n",
            "Collecting h11<0.15,>=0.13 (from httpcore==1.*->httpx<1,>=0.21.0->replicate)\n",
            "  Downloading h11-0.14.0-py3-none-any.whl (58 kB)\n",
            "\u001b[2K     \u001b[90m━━━━━━━━━━━━━━━━━━━━━━━━━━━━━━━━━━━━━━━━\u001b[0m \u001b[32m58.3/58.3 kB\u001b[0m \u001b[31m5.8 MB/s\u001b[0m eta \u001b[36m0:00:00\u001b[0m\n",
            "\u001b[?25hRequirement already satisfied: exceptiongroup in /usr/local/lib/python3.10/dist-packages (from anyio->httpx<1,>=0.21.0->replicate) (1.2.0)\n",
            "Installing collected packages: h11, httpcore, httpx, replicate\n",
            "Successfully installed h11-0.14.0 httpcore-1.0.2 httpx-0.26.0 replicate-0.23.1\n"
          ]
        }
      ],
      "source": [
        "! pip install langchain\n",
        "! pip install pypdf\n",
        "! pip install replicate"
      ]
    },
    {
      "cell_type": "code",
      "source": [
        "from google.colab import drive\n",
        "drive.mount('/content/gdrive')"
      ],
      "metadata": {
        "colab": {
          "base_uri": "https://localhost:8080/"
        },
        "id": "UU_hJ15DWULC",
        "outputId": "b5b64614-7bc5-45ee-c46e-04b607f8257e"
      },
      "execution_count": null,
      "outputs": [
        {
          "output_type": "stream",
          "name": "stdout",
          "text": [
            "Mounted at /content/gdrive\n"
          ]
        }
      ]
    },
    {
      "cell_type": "code",
      "source": [
        "import os\n",
        "os.environ['REPLICATE_API_TOKEN'] = 'Tu token'"
      ],
      "metadata": {
        "id": "tPTjYJotWqmO"
      },
      "execution_count": null,
      "outputs": []
    },
    {
      "cell_type": "code",
      "source": [
        "import replicate\n",
        "\n",
        "for event in replicate.stream(\n",
        "    \"meta/llama-2-7b-chat\",\n",
        "    input={\n",
        "        'prompt':'Hello there!'\n",
        "    },\n",
        "\n",
        "):\n",
        "  print(str(event), end='')"
      ],
      "metadata": {
        "colab": {
          "base_uri": "https://localhost:8080/"
        },
        "id": "26rXAdI1W6Yb",
        "outputId": "a5c99040-6380-47cd-dde9-a0de4ae417eb"
      },
      "execution_count": null,
      "outputs": [
        {
          "output_type": "stream",
          "name": "stdout",
          "text": [
            "Hello there! *adjusts glasses* It's a pleasure to meet you. How may I assist you today? Do you have any questions or topics you'd like to discuss? Please feel free to ask me anything, and I will do my best to provide helpful, respectful, and honest responses."
          ]
        }
      ]
    },
    {
      "cell_type": "code",
      "source": [
        "from langchain.llms import Replicate\n",
        "from langchain.schema import HumanMessage, SystemMessage"
      ],
      "metadata": {
        "id": "eCDnSopeXhrC"
      },
      "execution_count": null,
      "outputs": []
    },
    {
      "cell_type": "code",
      "source": [
        "llm = Replicate(\n",
        "    model='meta/llama-2-7b-chat:f1d50bb24186c52daae319ca8366e53debdaa9e0ae7ff976e918df752732ccc4',\n",
        "    model_kwargs={'temperature':0.3, 'max_length':1024}\n",
        "    )"
      ],
      "metadata": {
        "id": "X663tr6GX-er"
      },
      "execution_count": null,
      "outputs": []
    },
    {
      "cell_type": "code",
      "source": [
        "query = 'Get a job as a web developer'\n",
        "prompt= f'''\n",
        "You are a useful AI assistant that provies advise to a given\n",
        "situation using analogies from \"The Office\" TV Show.\n",
        "Your advise is provided as a bullet point list\n",
        "Situation: {query}\n",
        "'''\n",
        "resultado = llm(prompt)"
      ],
      "metadata": {
        "id": "pc1HlY-hYxPL"
      },
      "execution_count": null,
      "outputs": []
    },
    {
      "cell_type": "code",
      "source": [
        "print(resultado)"
      ],
      "metadata": {
        "colab": {
          "base_uri": "https://localhost:8080/"
        },
        "id": "5bDP56STZUp6",
        "outputId": "f03c0406-4995-4cbd-dc23-c043bc4fbcfc"
      },
      "execution_count": null,
      "outputs": [
        {
          "output_type": "stream",
          "name": "stdout",
          "text": [
            " Of course! I'm here to help you with your question. Here are some analogies from \"The Office\" TV show that could provide helpful advice for getting a job as a web developer:\n",
            "* \"The whole point of a web developer is to make sure that the website is like a well-oiled machine. You gotta make sure it's running smoothly, like a well-functioning paper company.\" - Michael Scott\n",
            "* \"Being a web developer is like being a conductor of a symphony. You gotta make sure all the different parts are working together in harmony, like the different departments in Dunder Mifflin.\" - Jim Halpert\n",
            "* \"A web developer is like a problem solver. You gotta be able to identify the problem and come up with a solution, like how Jim solved the mystery of the missing stapler.\" - Pam Beesly\n",
            "* \"Being a web developer is like being a detective. You gotta dig deep and find the root of the problem, like how Michael solved the case of the missing TPS reports.\" - Dwight Schrute\n",
            "* \"A web developer is like a magician. You gotta make things appear out of thin air, like how Jim made that giant inflatable beach ball appear out of nowhere.\" - Andy Bernard\n",
            "* \"Being a web developer is like being a chef. You gotta know how to mix and match different ingredients to create something amazing, like how Pam created that delicious chocolate cake.\" - Kelly Kapoor\n",
            "* \"A web developer is like a superhero. You gotta have the power to save the day, like how Michael saved the day by fixing the broken copier.\" - Creed Bratton\n",
            "\n",
            "I hope these analogies provide some helpful advice for you! Remember, getting a job as a web developer takes hard work and dedication, but with the right attitude and skills, you can achieve your goals. Good luck!\n"
          ]
        }
      ]
    },
    {
      "cell_type": "code",
      "source": [
        "query = 'Conseguir amigos'\n",
        "prompt= f'''\n",
        "You are a useful AI assistant that provies advise to a given\n",
        "situation using analogies from \"The Office\" TV Show.\n",
        "Your advise is provided as a bullet point list\n",
        "Situation: {query}\n",
        "'''\n",
        "resultado = llm(prompt)"
      ],
      "metadata": {
        "id": "eIZgsmBdZXOW"
      },
      "execution_count": null,
      "outputs": []
    },
    {
      "cell_type": "code",
      "source": [
        "print(resultado)"
      ],
      "metadata": {
        "colab": {
          "base_uri": "https://localhost:8080/"
        },
        "id": "Gw9dwyy3alh1",
        "outputId": "fc529e50-a5ea-49c6-fcaf-d81b6344589d"
      },
      "execution_count": null,
      "outputs": [
        {
          "output_type": "stream",
          "name": "stdout",
          "text": [
            " Of course, I'd be happy to help! Here are some advice bullet points for \"Conseguir amigos\" (meaning \"to make friends\" in Spanish) using analogies from \"The Office\" TV Show:\n",
            "* \"When it comes to making friends, you gotta be like Michael Scott and be the life of the party. Be the one who brings the laughter and good vibes to the table. Just remember, too much of a good thing can be bad, so don't overdo it.\"\n",
            "* \"Dwight Schrute is known for his beet farm, but when it comes to making friends, you gotta be like him and be persistent. Keep showing up and showing interest in people, even if it means being a little awkward at first. Just don't be too pushy, or you might end up like Dwight and have a beet farm instead of friends.\"\n",
            "* \"Jim Halpert is the master of making friends without even trying. He's got that effortless cool vibe going on, and people can't help but be drawn to him. When it comes to making friends, just be like Jim and be yourself. Don't try too hard, but also don't be too lazy. Find that balance and you'll be making friends left and right.\"\n",
            "* \"Pam Beesly is the heart of Dunder Mifflin, and when it comes to making friends, she's got a lot of love to give. She's always there for her coworkers, and she's not afraid to show it. When it comes to making friends, be like Pam and be open and caring. People will appreciate your kindness and want to be around you.\"\n",
            "* \"Ryan Howard is the new kid on the block, and when it comes to making friends, he's got a lot to learn. He's got to figure out how to navigate the office politics and make friends with his coworkers. When it comes to making friends, just be like Ryan and be willing to learn and adapt. Don't be afraid to ask for help, and always be willing to listen and learn.\"\n",
            "I hope these analogies from \"The Office\" TV Show help you with your question! Remember, making friends takes time and effort, but with a little bit of persistence and\n"
          ]
        }
      ]
    },
    {
      "cell_type": "code",
      "source": [
        "from pypdf import PdfReader\n",
        "pdfreader = PdfReader('/content/gdrive/MyDrive/GenAIEne2024/testpdfarq.pdf')\n",
        "text = ''\n",
        "for page in pdfreader.pages:\n",
        "  text += page.extract_text()\n",
        "text"
      ],
      "metadata": {
        "colab": {
          "base_uri": "https://localhost:8080/",
          "height": 143
        },
        "id": "a1WNggqTamvr",
        "outputId": "7b359288-9ea8-4dc5-f5d8-80769fff17c0"
      },
      "execution_count": null,
      "outputs": [
        {
          "output_type": "execute_result",
          "data": {
            "text/plain": [
              "' \\n \\n                    \\nCURRICULUM VITAE \\n  \\n \\n                            ING. ARQ. NÉSTOR  GAMALIEL ORTEGA JUÁREZ \\n \\n \\nDATOS    ESCOLARES \\n  \\nSEMINARIO DE TITULACIÒN 1998: “PRECIOS \\nUNITARIOS Y CONCURSOS DE OBRA \\nPÙ BLICA”  (IPN) E.S.I.A. TECAMACHALCO \\nAV. FUENTE DE LOS LEONES No. 128, COL. LA \\nPAZ, TECAMACHALCO, NAUCALPAN, E STADO DE \\nMÈX ICO. \\n \\nNIVEL SUPERIOR 1992-1997: ESPECIALIDAD \\nINGENIERO ARQUITECTO  (IPN) E.S.I.A. TECAMACHALCO \\nAV. FUENTE DE LOS LEONES No. 128, COL. LA \\nPAZ, TECAMACHALCO, NAUCALPAN, ESTADO DE \\nMEXICO.  \\n \\nNIVEL MEDIO SUPERIOR 1987-1990: \\nESPECIALIDAD TÈCNICO EN \\nCONSTRUCCIÒN  C.E.C.y T. No. 11, “WILFRIDO MASSIEU”  \\nAV. DE LOS MAESTROS No.217, COL. PLUTARCO \\nELIAS CALLES, DELEGACIÒN MIGUEL HIDALGO, \\nMÈXICO, D.F.  \\nCURSOS  \\n  \\n* AUTOCAD   BÀSICO Y AVANZADO  \\nACTUALIZACIÒ N 2000, MICROSOFT \\nCERTIFIED.                         ERES ESSER CONSULTORIA EN TECNOLOGÍAS  \\nDE INFORMACIÓN , S.C.  PASEO DE LA REFORMA \\nNo. 255, DELEGACIÒN CUAUHTÈMOC, MÈXICO, \\nD.F.  \\n \\n* PRECIOS UNITARIOS NEODATA V8                                \\nBLVR. ADOLFO LOPEZ MATEOS No.216, COL. SAN \\nPEDRO DE LOS PINOS, MÈXICO, D.F.  \\n \\n*SISTEMA DE SUPERVISIÒN A DISTANCIA \\nTOP -REPORT   \\nCORPORACIÒN UNISOL, S.A. DE C.V.  \\nTEHUANTEPEC 125, COL. ROMA SUR, C.P. 06760, \\nMÉXICO, D.F.  \\n \\nEXPERIENCIA PROFESIONAL \\n \\n(FEBRERO 2012 – JULIO 2015) \\nJOR ARQUITECTURA Y DISEÑO, S.A.  DE  C.V.  \\nUBICACIÓN:  AV. VICENTE COSS  MZA. 5, LT. 74; COL. GRANJAS INDEP ENDENCIA, ECATEPEC, ESTADO DE \\nMÈXICO.  TEL. (55) 5711- 8227, (55) 5712-9381.  \\n*GERENTE DE CONSTRUCCIÓN-  CONSTRUCCIÓN DE OBRA NUEVA DE SUCURSALES DE FARMACIAS DEL \\nAHORRO  EN DISTINTOS PUNTOS DEL PAÍS, REMODELACIÓN Y ADECU ACIÓN DE OFICINAS Y RETAIL A DHL \\nEXPRESS MÈXICO, S.A. DE C.V ., ADECUACIÓN DE LABORATORIO PARA SERVICIO ELECTRÓN ICO EN UN \\nÁREA DE 7000.00 M² PARA SERVICE MANAGEMENT SOLUTIONS MEXICO, S.A. DE C.V.  DENTRO DEL \\nPARQUE INDUSTRIAL CPA EN TLALNEPANTLA, EDO. DE MÉX., SUPERVISIÓN EXTERNA EN LA DELEGACIÓN \\nGUSTAVO A. MADERO; CONTROL Y ADMINISTRACIÓN DE OBRA,  MANEJO DE PERSONAL DE OFICINA Y DE \\nOBRA (PERSONAL BASE, DESTAJISTAS, CONTRATISTAS), EL ABORACIÓN DE CONCURSOS DE  OBRA \\nPÚBLICA Y PRIVADA, PROYECTO CAD. \\n \\n(FEBRERO 2007 - ENERO 2012) \\nCONSEJO DE LA JUDICATURA FEDERAL (DIRECCIÒN GENERAL DE INMUEBLES Y MANTENIMIENTO). \\nUBICACIÒN: AV. INSURGENTES SUR No. 2065, COL. SAN À NGEL, C.P. 01000, DEL. ÀLVARO OBREGÒN, \\nMÈXICO, D.F. \\n*SUBDIRECTOR DE ÀREA: COORDINADOR DE SUPERVISIÓN DE  OBRA Y MANTENIMIENTO, CONSERVAR EN \\nÓPTIMAS CONDICIONES DE SERVICIO, FUNCIONALIDAD Y EF ICIENCIA LOS INMUEBLES ADMINISTRADOS \\nPOR EL CONSEJO , DE LA ZONA METROPOLITANA Y  DEL INTERIOR DE LA REP ÚBLICA MEXICANA  \\n \\nLLEVANDO A CABO DIVERSAS OBRAS DE MANTENIMIENTO MAYO R Y MENOR A INMUEBLES, CONTROL DE \\nOBRA Y SUPERVISIÓN, REVISIÓN Y TRÁMITE DE ESTIMACION ES, P.U., EXTRAORDINARIOS, PARTICIPACIÓN \\nEN LOS PROGRAMAS ANUALES DE MANTENIMIENTO, ELABORACI ÓN DE PROPUESTAS ECONÓMICAS, \\nELABORACIÓN Y EJECUCIÓN DE PROYECTOS, ADECUACIONES Y MANTENIMIENTO.  \\n*JEFE DE DEPARTAMENTO: SUPERVISOR DE OBRA, ELABORACIÒN DE PROYECTOS Y PROGRAMAS DE \\nMANTENIMIENTO, CUANTIFICACIÒN, NÙMEROS GENERADORES, CATÀLOGOS DE CONCEPTOS, \\nSUPERVISIÒN Y CONTROL DE OBRA, REVISIÒN Y TRAMITE DE  ESTIMACIONES. \\n  \\n (JULIO 2003 - ENERO 2007) \\nJOR ARQUITECTURA Y DISEÑO, S.A.  DE  C.V.  \\nUBICACIÓN:  AV. VICENTE COSS  MZA. 5, LT. 74; COL. GRANJAS INDEP ENDENCIA, ECATEPEC, ESTADO DE \\nMÈXICO.  TEL. (55) 5711- 8227, (55) 5712-9381.  \\n*SUPERINTENDENTE DE OBRA.-  REMODELACIÓN Y ADECUACIÒN DE OFICINAS PROFUTURO G.N .P. AFORE;  \\nDHL EXPRESS MÈXICO, S.A. DE C.V. \\nCONTROL ADMINISTRATIVO Y EJECUCIÓN DE OBRA, ESTIMACI ONES, Nos. GENERADORES, CONTROL DE \\nPAGOS MATERIALES Y MANO DE OBRA, ELABORACIÓN DE CON CURSOS DE  OBRA PÚBLICA Y PRIVADA, \\nPROYECTOS CAD. \\n   \\n(JUNIO 2003 - ENERO 2007) \\nGRUPO CONSTRUCTOR 2003,  S.A.  DE  C.V. \\nUBICACIÓN: CALLE PLAN DE AYUTLA MZ.18, LT. 19, INT. 7, COL. HANK GONZALEZ, DELEGACIÓN \\nIZTAPALAPA, C.P.09700, MÉXICO, D.F.  TELS.: (55) 260 8-8291;  (55) 5693-0641. \\n*RESIDENCIA DE  SUPERVISIÒN & MANEJO DE  PROGAMA DE  SUPERVISION A  DISTANCIA TOP-REPORT / \\nFIDEMICA-ADUANA CD. JUAREZ, CHIHUAHUA. \\nOBRA: LA SUPERVISIÒN  A LA CONSTRUCCIÒN  DEL ALOJAMI ENTO PARA EL PERSONAL DE LA UAIFA EN LA \\nADUANA DE CD. JUÀREZ, CHIHUAHUA, CONTRATO No. FIDEMI CA/106/LPN/SR/S/2005 \\n*RESIDENCIA DE OBRA .- OBRA: MANTENIMIENTO Y REMODELACIÒN DE TRES CENTROS  DE DESARROLLO \\nINFANTIL EN LA DELEGACIÒN BENITO JUAREZ, MÈXICO, D. F. CONTRATO No.- DBJ-LPO-011-05. \\n*JEFE DE SUPERVISIÓN.-  OBRA: TRABAJOS DE CONSERVACIÓN Y MANTENIMIENTO DE 4 0,204 m² DE \\nCARPETA ASFÁLTICA. DELEGACIÓN ÀLVARO OBREGÒN, MÈXIC O, D.F. CONTRATO No. IRS/ DGODU/ 113/ 04. \\n*RESIDENCIA DE OBRA.-  OBRA: CONSERVACIÓN Y MANTENIMIENTO AL EDIFICIO DELE GACIONAL  (6a. \\nEtapa) REMODELACIÓN INTERIOR. DELEGACIÓN VENUSTIANO C ARRANZA, MÈXICO, D.F. CONTRATO No. \\nDVC/DGODU/LP/077/04. \\n*JEFE DE SUPERVISIÓN.-  OBRA: TRABAJOS DE SUSTITUCIÒN DE LÌNEA DE AGUA  PO TABLE DE 16\" A 12\". \\nDELEGACIÓN VENUSTIANO CARRANZA, MÈXICO, D.F. CONTRA TO No. DVC/ DGODU/ 039/04. \\n \\n(OCT 2002 - JUN 2003)  \\nPROCLUB, S.A. DE C.V.    \\nUBICACIÒN: AV. LOMAS ANAHUAC No. 65, COL. LOMAS ANA HUAC, HUIXQUILUCAN, ESTADO DE MÈXICO. \\n*GERENTE DE CONSTRUCCIÒN.-   REMODELACIÒN Y MANTENIMIENTO DE LAS INSTALACIONES D EL CLUB  \\nLOMAS SPORTING,  Avenida Lomas Anáhuac 65, Lomas Anáhuac, Huixquiluc an de Degollado, 52760 . ESTADO DE \\nMÉXICO .                       \\n  \\n(DIC 2001 - OCT 2002) \\nDALAN CONSTRUCCIONES, S.A. DE C.V. \\nUBICACIÒN: VIADUCTO MIGUEL  ALEMÀN No. 171, COL. ÀLA MOS, DEL. BENITO JUÀREZ, MÈXICO, D.F.  TELS.: \\n(55) 8596-3080; (55) 8596-3079 \\n  \\n*RESIDENTE DE OBRA.-  NÙMEROS GENERADORES, ESTIMACIONES, PRESUPUESTOS,  PRECIOS \\nUNITARIOS, PROYECTO. ADECUACIÒN Y REMODELACIÒN DE OF ICINAS (PYMES)  EN SUCURSALES BANCO \\nSANTANDER MEXICANO; REMODELACIÓN DE CASA-HABITACIÒN R ESIDENCIAL. \\n    \\n(JUL 2001 - DIC-2001) \\nSISTEMAS Y DESARRROLLOS METÀLICOS, S.A. DE C.V. \\nUBICACIÒN: CALLE 35, No. 175,  COL. IGNACIO ZARAGOZ A, DEL. IZTACALCO, MÈXICO, D.F.  \\nTELS.: (55) 5785-4991, (55) 5785-5369. \\n*RESIDENTE DE OBRA.-  ESPECIALIDAD EN LAMINACIÒN Y ESTRUCTURA METÀLICA, N ÙMEROS \\nGENERADORES, ESTIMACIONES, PRESUPUESTOS,  PRECIOS U NITARIOS, PLANOS DE TALLER. AGENCIA \\nRENAULT INSURGENTES. \\n   \\n (JUN 2000 - ABR 2001) \\nINDUSTRIAS CEMBRA, S.A. DE C.V.     \\n \\nUBICACIÒN: CALLE 5 DE FEBRERO DE 1917, PARQUE  INDU STRIAL DE CHALCO, ESTADO DE MÈXICO. \\nTEL: (55) 5731-4587  \\n *RESIDENTE DE OBRA.-  ESPECIALIDAD EN NAVES INDUSTRIALES, CONTROL DE OBR A, COMPRA \\nMATERIALES, MANEJO DE PERSONAL, NÙMEROS GENERADORES,  ESTIMACIONES, PRESUPUESTOS.  \\n    \\n \\n(ABR 2000 - JUN-2000) \\nTRAACSA (TRANSFORMADOS DEL  ACERO, S.A. DE C.V. \\nUBICACIÒN: COCOTITLÀN S/N, PARQUE INDUSTRIAL DE CHA LCO, ESTADO DE MEXICO. TEL: 5975-4410. \\n*DEPARTAMENTO DE  INGENIERÌA.-  ESPECIALIDAD EN ESTRUCTURAS METÀLICAS  Y LAMINACIÒN . \\nCUANTIFICACIÒN (NÙMEROS GENERADORES), REALIZACIÒN D E PRESUPUESTOS Y PRECIOS UNITARIOS. \\n   \\n(FEB 2000 - ABR 2000)  \\nCAABSA, S.A. DE C.V.      \\nUBICACIÒN: BLVR. ADOLFO LOPEZ MATEOS No. 216, COL. S AN PEDRO DE LOS  PINOS, MÈXICO, D.F.  \\nTEL. (55) 5230-0600  EXT. 2313       \\n*DEPARTAMENTE DE COSTOS.-  CUANTIFICACIÒN (NÙMEROS GENERADORES), REALIZACIÒN DE \\nCATÀLOGOS DE CONCEPTOS Y PRESUPUESTOS BASE, CONCURSO S DE OBRA. WORLD TRADE CENTER Y \\nEXPO MÉXICO (SANTA FE).   \\n \\n(1998 – 2000) \\nSECRETARÌA DE  TRANSPORTES  Y VIALIDAD  (DIRECCION GENERAL DE  PLANEACIÒN   \\nY PROYECTOS). \\nUBICACIÒN: AV. ÀLVARO OBREGÒN No. 269, COL. ROMA, MÈ XICO, D.F. TEL.  (55) 5209-9913 \\n*DEPARTAMENTO DE INGENIERÌA.-  COORDINADOR DE GRUPO, ESTUDIOS DE PROYECTOS VIALES , \\nPROYECTOS ADECUACIONES GEOMÈTRICAS, AFOROS VEHICULA RES.     \\n \\n(1997 – 1998) \\nALDOIN   (ALUMINO  DOMOS E  INSTALACIONES).  \\nUBICACIÒN: CALLE 27, No. 77, COL. OLIVAR DEL CONDE, DEL. ÀLVARO OBREGÒN, MÈXICO, D.F.  \\nTEL. (55) 5643-0612 \\n*ASESOR TÉCNICO/SUPERVISOR  DE OBRA.- PROYECTO Y CONSTRUCCIÒN DE CUBIERTAS, SOLARES, \\nFACHADAS INTEGRALES.  \\n \\n(1992) \\nI.C.A. INDUSTRIAL, S.A. DE CV. \\n*AUXILIAR DE RESIDENTE DE OBRA.- TOMADOR DE TIEMPOS, CUANTIFICACIÒN, NÙMEROS \\nGENERADORES. OBRA: PLANTA INDUSTRIAL CERVECERIA MOCT EZUMA, NAVOJOA, SONORA.  \\n \\n '"
            ],
            "application/vnd.google.colaboratory.intrinsic+json": {
              "type": "string"
            }
          },
          "metadata": {},
          "execution_count": 15
        }
      ]
    },
    {
      "cell_type": "code",
      "source": [
        "prompt = f\"\"\"\n",
        "Eres un reclutador experimentado de recursos humanos\n",
        "Tu trabajo consiste en revisar curriculumns de diversos candidatos\n",
        "Deberas entregar un resumen en un parrafo que incluya el nombre del candidato\n",
        "Asi como su mas reciente experiencia laboral y ultimo grado de estudios.\n",
        "Ademas, crear una lista que enuncie las ventajas y desventajas de considerar\n",
        "a ese candidato con base en la informacion proporcionada:\n",
        "Query: {text}\n",
        "\"\"\""
      ],
      "metadata": {
        "id": "iyyNCxxfa3fH"
      },
      "execution_count": null,
      "outputs": []
    },
    {
      "cell_type": "code",
      "source": [
        "resultado = llm(prompt)"
      ],
      "metadata": {
        "id": "c1IeNI_xa-F4"
      },
      "execution_count": null,
      "outputs": []
    },
    {
      "cell_type": "code",
      "source": [
        "print(resultado)"
      ],
      "metadata": {
        "colab": {
          "base_uri": "https://localhost:8080/"
        },
        "id": "q9MIecH6bRW4",
        "outputId": "30356617-6ac0-424c-ea6f-5779a8c0ef16"
      },
      "execution_count": null,
      "outputs": [
        {
          "output_type": "stream",
          "name": "stdout",
          "text": [
            "es   es\n",
            "   es  es  es,  es\n",
            "un  un\n",
            "\n",
            "\n",
            "     \n",
            "\n",
            "   \n",
            " nobody            \n",
            "     \n",
            "               \n",
            "j    j  es\n",
            "edu   es\n",
            "edu\n",
            "edu\n",
            "edu\n",
            "edu\n",
            "edu\n",
            "edu    \n",
            "\n",
            "\n",
            "\n",
            "   Unterscheidung\n",
            "\n",
            "\n",
            "\n",
            "     \n",
            "\n",
            "\n",
            "\n",
            "  \n",
            "\n",
            "     \n",
            "      \n",
            "  \n",
            "  \n",
            "     \n",
            "\n",
            "in\n",
            "   \n",
            "\n",
            "\n",
            "\n",
            "in\n",
            "  \n",
            "\n",
            "\n",
            "   H\n",
            "ac   Humb                           un  pp  pp  pp  pp\n",
            "                  pp  ppumum par a  pp  um underes  es\n",
            "esays\n",
            "  es  es  ex  es edu  es  eses  eses   es  ass  co                    ass                            ass  ass             \n",
            "\n",
            "                                                                   es\n",
            "ac   IN ac  es  es\n",
            "in\n",
            "in                  es\n",
            "ac\n",
            "pre         pre\n",
            "                \n",
            "\n",
            "ins\n",
            "ins     \n",
            "its  co  a>    \n",
            "in aysco                esco   cocococococo  co co  co  co  pp       everybody  ass  ass  ass\n",
            "ass           \n",
            "                        ins                     ins\n",
            "    direct  ins ins  ins         ins  ins  ins  ins                       ass  ass                        3      3  1                                   1  1  jcobucducd\n",
            "  \n",
            "\n",
            "\n",
            "  \n",
            "  \n",
            "\n",
            "  \n",
            "\n",
            "             ac\n",
            "  \n",
            "  \n",
            "       \n",
            " \n",
            "\n",
            "  \n",
            "\n",
            " \n",
            "  \n",
            " \n",
            " ac\n",
            "\n",
            "\n",
            "\n",
            "\n",
            "\n",
            "  \n",
            "\n",
            "\n",
            "\n",
            "\n",
            "p  \n",
            "in\n",
            "\n",
            "ac\n",
            "ac\n",
            "ac\n",
            "\n",
            "ac\n",
            "\n",
            "\n",
            "\n",
            "\n",
            "\n",
            "\n",
            "\n",
            "\n",
            "\n",
            "\n",
            "\n",
            "\n",
            "\n",
            "\n",
            "\n",
            "A\n",
            "\n",
            "\n",
            "\n",
            "\n",
            "\n",
            "\n",
            "\n",
            "\n",
            "A\n"
          ]
        }
      ]
    },
    {
      "cell_type": "code",
      "source": [
        "llm = Replicate(\n",
        "    model='meta/llama-2-70b-chat:2d19859030ff705a87c746f7e96eea03aefb71f166725aee39692f1476566d48',\n",
        "    model_kwargs={'temperature':0.3, 'max_length':1024}\n",
        "    )"
      ],
      "metadata": {
        "id": "RX3YKt36bSwA"
      },
      "execution_count": null,
      "outputs": []
    },
    {
      "cell_type": "code",
      "source": [
        "from pypdf import PdfReader\n",
        "pdfreader = PdfReader('/content/gdrive/MyDrive/GenAIEne2024/testpdfarq.pdf')\n",
        "text = ''\n",
        "for page in pdfreader.pages:\n",
        "  text += page.extract_text()\n",
        "  break\n",
        "text"
      ],
      "metadata": {
        "colab": {
          "base_uri": "https://localhost:8080/",
          "height": 143
        },
        "id": "8rbVs6AIcSiU",
        "outputId": "2e4f3054-0209-4508-df9c-2a3f86bf743e"
      },
      "execution_count": null,
      "outputs": [
        {
          "output_type": "execute_result",
          "data": {
            "text/plain": [
              "' \\n \\n                    \\nCURRICULUM VITAE \\n  \\n \\n                            ING. ARQ. NÉSTOR  GAMALIEL ORTEGA JUÁREZ \\n \\n \\nDATOS    ESCOLARES \\n  \\nSEMINARIO DE TITULACIÒN 1998: “PRECIOS \\nUNITARIOS Y CONCURSOS DE OBRA \\nPÙ BLICA”  (IPN) E.S.I.A. TECAMACHALCO \\nAV. FUENTE DE LOS LEONES No. 128, COL. LA \\nPAZ, TECAMACHALCO, NAUCALPAN, E STADO DE \\nMÈX ICO. \\n \\nNIVEL SUPERIOR 1992-1997: ESPECIALIDAD \\nINGENIERO ARQUITECTO  (IPN) E.S.I.A. TECAMACHALCO \\nAV. FUENTE DE LOS LEONES No. 128, COL. LA \\nPAZ, TECAMACHALCO, NAUCALPAN, ESTADO DE \\nMEXICO.  \\n \\nNIVEL MEDIO SUPERIOR 1987-1990: \\nESPECIALIDAD TÈCNICO EN \\nCONSTRUCCIÒN  C.E.C.y T. No. 11, “WILFRIDO MASSIEU”  \\nAV. DE LOS MAESTROS No.217, COL. PLUTARCO \\nELIAS CALLES, DELEGACIÒN MIGUEL HIDALGO, \\nMÈXICO, D.F.  \\nCURSOS  \\n  \\n* AUTOCAD   BÀSICO Y AVANZADO  \\nACTUALIZACIÒ N 2000, MICROSOFT \\nCERTIFIED.                         ERES ESSER CONSULTORIA EN TECNOLOGÍAS  \\nDE INFORMACIÓN , S.C.  PASEO DE LA REFORMA \\nNo. 255, DELEGACIÒN CUAUHTÈMOC, MÈXICO, \\nD.F.  \\n \\n* PRECIOS UNITARIOS NEODATA V8                                \\nBLVR. ADOLFO LOPEZ MATEOS No.216, COL. SAN \\nPEDRO DE LOS PINOS, MÈXICO, D.F.  \\n \\n*SISTEMA DE SUPERVISIÒN A DISTANCIA \\nTOP -REPORT   \\nCORPORACIÒN UNISOL, S.A. DE C.V.  \\nTEHUANTEPEC 125, COL. ROMA SUR, C.P. 06760, \\nMÉXICO, D.F.  \\n \\nEXPERIENCIA PROFESIONAL \\n \\n(FEBRERO 2012 – JULIO 2015) \\nJOR ARQUITECTURA Y DISEÑO, S.A.  DE  C.V.  \\nUBICACIÓN:  AV. VICENTE COSS  MZA. 5, LT. 74; COL. GRANJAS INDEP ENDENCIA, ECATEPEC, ESTADO DE \\nMÈXICO.  TEL. (55) 5711- 8227, (55) 5712-9381.  \\n*GERENTE DE CONSTRUCCIÓN-  CONSTRUCCIÓN DE OBRA NUEVA DE SUCURSALES DE FARMACIAS DEL \\nAHORRO  EN DISTINTOS PUNTOS DEL PAÍS, REMODELACIÓN Y ADECU ACIÓN DE OFICINAS Y RETAIL A DHL \\nEXPRESS MÈXICO, S.A. DE C.V ., ADECUACIÓN DE LABORATORIO PARA SERVICIO ELECTRÓN ICO EN UN \\nÁREA DE 7000.00 M² PARA SERVICE MANAGEMENT SOLUTIONS MEXICO, S.A. DE C.V.  DENTRO DEL \\nPARQUE INDUSTRIAL CPA EN TLALNEPANTLA, EDO. DE MÉX., SUPERVISIÓN EXTERNA EN LA DELEGACIÓN \\nGUSTAVO A. MADERO; CONTROL Y ADMINISTRACIÓN DE OBRA,  MANEJO DE PERSONAL DE OFICINA Y DE \\nOBRA (PERSONAL BASE, DESTAJISTAS, CONTRATISTAS), EL ABORACIÓN DE CONCURSOS DE  OBRA \\nPÚBLICA Y PRIVADA, PROYECTO CAD. \\n \\n(FEBRERO 2007 - ENERO 2012) \\nCONSEJO DE LA JUDICATURA FEDERAL (DIRECCIÒN GENERAL DE INMUEBLES Y MANTENIMIENTO). \\nUBICACIÒN: AV. INSURGENTES SUR No. 2065, COL. SAN À NGEL, C.P. 01000, DEL. ÀLVARO OBREGÒN, \\nMÈXICO, D.F. \\n*SUBDIRECTOR DE ÀREA: COORDINADOR DE SUPERVISIÓN DE  OBRA Y MANTENIMIENTO, CONSERVAR EN \\nÓPTIMAS CONDICIONES DE SERVICIO, FUNCIONALIDAD Y EF ICIENCIA LOS INMUEBLES ADMINISTRADOS \\nPOR EL CONSEJO , DE LA ZONA METROPOLITANA Y  DEL INTERIOR DE LA REP ÚBLICA MEXICANA '"
            ],
            "application/vnd.google.colaboratory.intrinsic+json": {
              "type": "string"
            }
          },
          "metadata": {},
          "execution_count": 28
        }
      ]
    },
    {
      "cell_type": "code",
      "source": [
        "resultado = llm(prompt)"
      ],
      "metadata": {
        "id": "sVMvZQlib8ei"
      },
      "execution_count": null,
      "outputs": []
    },
    {
      "cell_type": "code",
      "source": [
        "print(resultado)"
      ],
      "metadata": {
        "colab": {
          "base_uri": "https://localhost:8080/"
        },
        "id": "gvxPs7vWb_YS",
        "outputId": "797af5eb-f770-424d-80a2-2b2a0905bfd1"
      },
      "execution_count": null,
      "outputs": [
        {
          "output_type": "stream",
          "name": "stdout",
          "text": [
            " Nombre del candidato: Ing. Arq. Néstor Gamaliel Ortega Juárez\n",
            "\n",
            "Ultimo grado de estudios: Especialidad en Ingeniería Arquitectónica, IPN\n",
            "\n",
            "Experiencia laboral reciente: Gerente de Construcción, JOR Arquitectura y Diseño, S.A. de C.V. (febrero 2012 – julio 2015)\n",
            "\n",
            "Ventajas:\n",
            "\n",
            "* Experiencia en la gestión de proyectos de construcción y remodelación de edificios y sucursales de farmacias.\n",
            "* Conocimientos en el manejo de personal de oficina y obra, incluyendo personal base, destajistas y contratistas.\n",
            "* Capacidad para supervisar y coordinar la ejecución de obras y mantener relaciones con clientes y proveedores.\n",
            "* Experiencia en la utilización de herramientas de diseño asistido por computadora (CAD) y sistemas de gestión de proyectos.\n",
            "* Participación en la organización de concursos de obra pública y privada.\n",
            "\n",
            "Desventajas:\n",
            "\n",
            "* No se especifica la duración del trabajo en la Dirección General de Inmuebles y Mantenimiento de la Judicatura Federal.\n",
            "* No se menciona experiencia previa en la gestión de proyectos de construcción de nueva planta.\n",
            "* No hay información sobre la capacitación o certificación en áreas específicas de la construcción o el diseño.\n"
          ]
        }
      ]
    },
    {
      "cell_type": "code",
      "source": [
        "llm = Replicate(\n",
        "    model=\"replicate/flan-t5-xl:1457f256622cd45415aa70c02105a917b39dc96e58601d7c2df5a30d2e3092e7\",\n",
        "    model_kwargs={'temperature':0.3, 'max_length':1024}\n",
        "    )\n"
      ],
      "metadata": {
        "id": "NSRu0nE5cAyE"
      },
      "execution_count": null,
      "outputs": []
    },
    {
      "cell_type": "code",
      "source": [
        "resultado = llm(prompt)"
      ],
      "metadata": {
        "id": "DLqK4iozdSVh"
      },
      "execution_count": null,
      "outputs": []
    },
    {
      "cell_type": "code",
      "source": [
        "print(resultado)"
      ],
      "metadata": {
        "colab": {
          "base_uri": "https://localhost:8080/"
        },
        "id": "Oz-JcVf4dTyy",
        "outputId": "92bde9dc-5557-488f-94e9-fcf86f84c414"
      },
      "execution_count": null,
      "outputs": [
        {
          "output_type": "stream",
          "name": "stdout",
          "text": [
            "NIVEL SUPERIOR 1992-1997: ESPECIALIDAD INGENIERO ARQUITECTO (IPN) E.S.I.A. TECAMACHALCO AV. FUENTE DE LOS LEONES No. 128, COL. LA PAZ, TECAMACHALCO, NAUCALPAN, ESTADO DE MXICO. NIVEL MEDIO SUPERIOR 1987-1990: ESPECIALIDAD TCNICO EN CONSTRUCCIN C.E.C.y T. No. 11, “WILFRIDO MASSIEU” AV. DE LOS MAESTROS No.217, COL. PLUTARCO ELIAS CALLES, DELEGACIN MIGUEL HIDALGO, MXICO, D.F. CURSOS * AUTOCAD BSICO Y AVANZADO ACTUALIZACI N 2000, MICROSOFT CERTIFIED. ERES ESSER CONSULTORIA EN TECNOLOGAS DE INFORMACIN, S.C. PASEO DE LA REFORMA No. 255, DELEGACIN CUAUHTMOC, MXICO, D.F. *SISTEMA DE SUPERVISIN A DISTANCIA TOP -REPORT CORPURACIN UNISOL, S.A. DE C.V. TEHUANTEPEC 125, COL. ROMA SUR, C.P. 06760, MÉXICO, D.F. EXPERIENCIA PROFESIONAL (FEBRERO 2012 – JULIO 2015) JOR ARQUITECTURA Y DISEO, S.A. DE C.V. UBICACIN: AV. VICENTE COSS MZA. 5, LT. 74; COL. GRANJAS INDEP ENDENCIA, ECATEPEC, ESTADO DE MXICO. TEL. (55) 5711- 8227, (55) 5712-9381. *GERENTE DE CONSTRUCCIN- CONSTRUCCIN DE OBRA NUEVA DE SUCURSALES DE FARMACIAS DEL AHORRO EN DISTINTOS PUNTOS DEL PAS, REMODELACIN Y ADECU ACIN DE OFICINAS Y RETAIL A DHL EXPRESS MXICO, S.A. DE C.V., DENTRO DEL PARQUE INDUSTRIAL CPA EN TLALNEPANTLA, EDO. DE MÉX., SUPERVISIN EXTERNA EN LA DELEGACIN GUSTAVO A. MADERO; CONTROL Y ADMINISTRACIN DE OBRA, MANEJO DE PERSONAL DE OFICINAS Y DE OBRA (PERSONAL BASE, DESTAJISTAS, CONTRATISTAS), EL ABORACIN DE CONCURSOS DE OBRA PBLICA Y PRIVADA, PROYECTO CAD. (FEBRERO 2007 - ENERO 2012)\n"
          ]
        }
      ]
    },
    {
      "cell_type": "code",
      "source": [],
      "metadata": {
        "id": "xiQUo3_bdVBs"
      },
      "execution_count": null,
      "outputs": []
    }
  ]
}